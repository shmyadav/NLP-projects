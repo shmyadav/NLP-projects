{
  "nbformat": 4,
  "nbformat_minor": 0,
  "metadata": {
    "colab": {
      "name": "sarcasmdetector.ipynb",
      "provenance": [],
      "collapsed_sections": []
    },
    "kernelspec": {
      "name": "python3",
      "display_name": "Python 3"
    }
  },
  "cells": [
    {
      "cell_type": "code",
      "metadata": {
        "id": "dkGyomcuD8Bi",
        "colab_type": "code",
        "colab": {}
      },
      "source": [
        "import json\n",
        "files = []\n",
        "for line in open('Sarcasm_Headlines_Dataset.json', 'r'):\n",
        "    files.append(json.loads(line))"
      ],
      "execution_count": 0,
      "outputs": []
    },
    {
      "cell_type": "code",
      "metadata": {
        "id": "LyEe5WicE1Lm",
        "colab_type": "code",
        "colab": {}
      },
      "source": [
        "import pandas as pd\n",
        "df = pd.DataFrame(files)"
      ],
      "execution_count": 0,
      "outputs": []
    },
    {
      "cell_type": "code",
      "metadata": {
        "id": "Ok2mPdypEgfp",
        "colab_type": "code",
        "outputId": "6e4647e8-b43b-4eb8-8bf5-1900de828976",
        "colab": {
          "base_uri": "https://localhost:8080/",
          "height": 204
        }
      },
      "source": [
        "df.head()"
      ],
      "execution_count": 8,
      "outputs": [
        {
          "output_type": "execute_result",
          "data": {
            "text/html": [
              "<div>\n",
              "<style scoped>\n",
              "    .dataframe tbody tr th:only-of-type {\n",
              "        vertical-align: middle;\n",
              "    }\n",
              "\n",
              "    .dataframe tbody tr th {\n",
              "        vertical-align: top;\n",
              "    }\n",
              "\n",
              "    .dataframe thead th {\n",
              "        text-align: right;\n",
              "    }\n",
              "</style>\n",
              "<table border=\"1\" class=\"dataframe\">\n",
              "  <thead>\n",
              "    <tr style=\"text-align: right;\">\n",
              "      <th></th>\n",
              "      <th>article_link</th>\n",
              "      <th>headline</th>\n",
              "      <th>is_sarcastic</th>\n",
              "    </tr>\n",
              "  </thead>\n",
              "  <tbody>\n",
              "    <tr>\n",
              "      <th>0</th>\n",
              "      <td>https://www.huffingtonpost.com/entry/versace-b...</td>\n",
              "      <td>former versace store clerk sues over secret 'b...</td>\n",
              "      <td>0</td>\n",
              "    </tr>\n",
              "    <tr>\n",
              "      <th>1</th>\n",
              "      <td>https://www.huffingtonpost.com/entry/roseanne-...</td>\n",
              "      <td>the 'roseanne' revival catches up to our thorn...</td>\n",
              "      <td>0</td>\n",
              "    </tr>\n",
              "    <tr>\n",
              "      <th>2</th>\n",
              "      <td>https://local.theonion.com/mom-starting-to-fea...</td>\n",
              "      <td>mom starting to fear son's web series closest ...</td>\n",
              "      <td>1</td>\n",
              "    </tr>\n",
              "    <tr>\n",
              "      <th>3</th>\n",
              "      <td>https://politics.theonion.com/boehner-just-wan...</td>\n",
              "      <td>boehner just wants wife to listen, not come up...</td>\n",
              "      <td>1</td>\n",
              "    </tr>\n",
              "    <tr>\n",
              "      <th>4</th>\n",
              "      <td>https://www.huffingtonpost.com/entry/jk-rowlin...</td>\n",
              "      <td>j.k. rowling wishes snape happy birthday in th...</td>\n",
              "      <td>0</td>\n",
              "    </tr>\n",
              "  </tbody>\n",
              "</table>\n",
              "</div>"
            ],
            "text/plain": [
              "                                        article_link  ... is_sarcastic\n",
              "0  https://www.huffingtonpost.com/entry/versace-b...  ...            0\n",
              "1  https://www.huffingtonpost.com/entry/roseanne-...  ...            0\n",
              "2  https://local.theonion.com/mom-starting-to-fea...  ...            1\n",
              "3  https://politics.theonion.com/boehner-just-wan...  ...            1\n",
              "4  https://www.huffingtonpost.com/entry/jk-rowlin...  ...            0\n",
              "\n",
              "[5 rows x 3 columns]"
            ]
          },
          "metadata": {
            "tags": []
          },
          "execution_count": 8
        }
      ]
    },
    {
      "cell_type": "code",
      "metadata": {
        "id": "8Q_C386xNafx",
        "colab_type": "code",
        "outputId": "6df18868-2342-4b8f-8ba0-ac469688bc9c",
        "colab": {
          "base_uri": "https://localhost:8080/",
          "height": 187
        }
      },
      "source": [
        "df.info()"
      ],
      "execution_count": 9,
      "outputs": [
        {
          "output_type": "stream",
          "text": [
            "<class 'pandas.core.frame.DataFrame'>\n",
            "RangeIndex: 26709 entries, 0 to 26708\n",
            "Data columns (total 3 columns):\n",
            " #   Column        Non-Null Count  Dtype \n",
            "---  ------        --------------  ----- \n",
            " 0   article_link  26709 non-null  object\n",
            " 1   headline      26709 non-null  object\n",
            " 2   is_sarcastic  26709 non-null  int64 \n",
            "dtypes: int64(1), object(2)\n",
            "memory usage: 626.1+ KB\n"
          ],
          "name": "stdout"
        }
      ]
    },
    {
      "cell_type": "code",
      "metadata": {
        "id": "h0b_QCeIFaHj",
        "colab_type": "code",
        "colab": {}
      },
      "source": [
        "#we are only concerned with headline and dataset\n",
        "X, Y = df['headline'],df['is_sarcastic']"
      ],
      "execution_count": 0,
      "outputs": []
    },
    {
      "cell_type": "code",
      "metadata": {
        "id": "EoskTZEhFvH7",
        "colab_type": "code",
        "colab": {}
      },
      "source": [
        "from sklearn.model_selection import train_test_split\n",
        "X_train,X_test,Y_tain,Y_test = train_test_split(X,Y,train_size = .8)"
      ],
      "execution_count": 0,
      "outputs": []
    },
    {
      "cell_type": "code",
      "metadata": {
        "id": "FnTWrU-cGmKk",
        "colab_type": "code",
        "colab": {}
      },
      "source": [
        "#import tokenizer from keras\n",
        "from tensorflow.keras.preprocessing.text import Tokenizer\n",
        "#import pad_sequence from keras\n",
        "from tensorflow.keras.preprocessing.sequence import pad_sequences\n",
        "import tensorflow as tf"
      ],
      "execution_count": 0,
      "outputs": []
    },
    {
      "cell_type": "code",
      "metadata": {
        "id": "VqPF5jV0H7p9",
        "colab_type": "code",
        "colab": {}
      },
      "source": [
        "#setting vocab size\n",
        "vocab_size =10000\n",
        "#Tokenizing words\n",
        "tokenized = Tokenizer(num_words= vocab_size,oov_token=\"<oov>\")\n",
        "tokenized.fit_on_texts(X_train.values)\n",
        "\n",
        "#word index\n",
        "word_index = tokenized.word_index\n",
        "\n",
        "#Changing training text to sequence\n",
        "training_seq = tokenized.texts_to_sequences(X_train.values)\n",
        "\n",
        "#padding and turncating so all the sequences are of equal size\n",
        "padded_seq_train = pad_sequences(training_seq,maxlen = 120,truncating= 'post',padding='post')\n",
        "\n",
        "#Tokenizing and padding test sequences\n",
        "test_seq = tokenized.texts_to_sequences(X_test.values)\n",
        "\n",
        "padded_seq_test = pad_sequences(test_seq,maxlen = 120,truncating= 'post',padding='post')"
      ],
      "execution_count": 0,
      "outputs": []
    },
    {
      "cell_type": "markdown",
      "metadata": {
        "id": "a5ruFYaPoLkU",
        "colab_type": "text"
      },
      "source": [
        "#Using LSTM"
      ]
    },
    {
      "cell_type": "code",
      "metadata": {
        "id": "PCT9qrc6RXhg",
        "colab_type": "code",
        "outputId": "51488ec4-4e77-4f9b-9203-d97cb35b9b44",
        "colab": {
          "base_uri": "https://localhost:8080/",
          "height": 323
        }
      },
      "source": [
        "#Note when we use LSTM we dont use Global Avg pooling 1D or Flatten()\n",
        "\n",
        "model = tf.keras.Sequential([\n",
        "    tf.keras.layers.Embedding(vocab_size, 16, input_length=120),\n",
        "    tf.keras.layers.Bidirectional(tf.keras.layers.LSTM(64, return_sequences=True)),#here we add a return sequences parameter so that its output will match input of 2nd layer \n",
        "    tf.keras.layers.Bidirectional(tf.keras.layers.LSTM(32)),\n",
        "    tf.keras.layers.Dense(24, activation='relu'),\n",
        "    tf.keras.layers.Dense(1, activation='sigmoid')])\n",
        "\n",
        "\n",
        "\n",
        "model.compile(loss='binary_crossentropy',optimizer='adam',metrics=['accuracy'])\n",
        "model.summary()"
      ],
      "execution_count": 26,
      "outputs": [
        {
          "output_type": "stream",
          "text": [
            "Model: \"sequential_10\"\n",
            "_________________________________________________________________\n",
            "Layer (type)                 Output Shape              Param #   \n",
            "=================================================================\n",
            "embedding_10 (Embedding)     (None, 120, 16)           160000    \n",
            "_________________________________________________________________\n",
            "bidirectional_2 (Bidirection (None, 120, 128)          41472     \n",
            "_________________________________________________________________\n",
            "bidirectional_3 (Bidirection (None, 64)                41216     \n",
            "_________________________________________________________________\n",
            "dense_11 (Dense)             (None, 24)                1560      \n",
            "_________________________________________________________________\n",
            "dense_12 (Dense)             (None, 1)                 25        \n",
            "=================================================================\n",
            "Total params: 244,273\n",
            "Trainable params: 244,273\n",
            "Non-trainable params: 0\n",
            "_________________________________________________________________\n"
          ],
          "name": "stdout"
        }
      ]
    },
    {
      "cell_type": "code",
      "metadata": {
        "id": "4_smBJFCfWES",
        "colab_type": "code",
        "outputId": "c43e50ad-6fc0-4158-db1b-cdfab03649b9",
        "colab": {
          "base_uri": "https://localhost:8080/",
          "height": 357
        }
      },
      "source": [
        "num_epochs = 10 \n",
        "learn = model.fit(x = padded_seq_train,y= Y_tain,epochs=num_epochs,validation_data=(padded_seq_test,Y_test))"
      ],
      "execution_count": 27,
      "outputs": [
        {
          "output_type": "stream",
          "text": [
            "Epoch 1/10\n",
            "668/668 [==============================] - 130s 194ms/step - loss: 0.4098 - accuracy: 0.8007 - val_loss: 0.3493 - val_accuracy: 0.8439\n",
            "Epoch 2/10\n",
            "668/668 [==============================] - 129s 192ms/step - loss: 0.2320 - accuracy: 0.9063 - val_loss: 0.3467 - val_accuracy: 0.8562\n",
            "Epoch 3/10\n",
            "668/668 [==============================] - 129s 192ms/step - loss: 0.1504 - accuracy: 0.9422 - val_loss: 0.4205 - val_accuracy: 0.8487\n",
            "Epoch 4/10\n",
            "668/668 [==============================] - 129s 193ms/step - loss: 0.0909 - accuracy: 0.9673 - val_loss: 0.5019 - val_accuracy: 0.8465\n",
            "Epoch 5/10\n",
            "668/668 [==============================] - 129s 193ms/step - loss: 0.0548 - accuracy: 0.9816 - val_loss: 0.6413 - val_accuracy: 0.8311\n",
            "Epoch 6/10\n",
            "668/668 [==============================] - 129s 193ms/step - loss: 0.0316 - accuracy: 0.9905 - val_loss: 0.6791 - val_accuracy: 0.8347\n",
            "Epoch 7/10\n",
            "668/668 [==============================] - 129s 193ms/step - loss: 0.0218 - accuracy: 0.9927 - val_loss: 0.7503 - val_accuracy: 0.8347\n",
            "Epoch 8/10\n",
            "668/668 [==============================] - 129s 193ms/step - loss: 0.0156 - accuracy: 0.9955 - val_loss: 0.8701 - val_accuracy: 0.8330\n",
            "Epoch 9/10\n",
            "668/668 [==============================] - 130s 194ms/step - loss: 0.0136 - accuracy: 0.9960 - val_loss: 0.8484 - val_accuracy: 0.8280\n",
            "Epoch 10/10\n",
            "668/668 [==============================] - 130s 194ms/step - loss: 0.0101 - accuracy: 0.9971 - val_loss: 0.9613 - val_accuracy: 0.8334\n"
          ],
          "name": "stdout"
        }
      ]
    },
    {
      "cell_type": "code",
      "metadata": {
        "id": "B4PDnFtCAT7D",
        "colab_type": "code",
        "colab": {
          "base_uri": "https://localhost:8080/",
          "height": 282
        },
        "outputId": "69660cff-d90e-4a08-d505-d4fee932afc5"
      },
      "source": [
        "import matplotlib.pyplot as plt\n",
        "\n",
        "\n",
        "plt.plot(learn.history['accuracy'])\n",
        "plt.plot(learn.history['val_accuracy'])"
      ],
      "execution_count": 38,
      "outputs": [
        {
          "output_type": "execute_result",
          "data": {
            "text/plain": [
              "[<matplotlib.lines.Line2D at 0x7faca4a90358>]"
            ]
          },
          "metadata": {
            "tags": []
          },
          "execution_count": 38
        },
        {
          "output_type": "display_data",
          "data": {
            "image/png": "[encoded data removed]",
            "text/plain": [
              "<Figure size 432x288 with 1 Axes>"
            ]
          },
          "metadata": {
            "tags": [],
            "needs_background": "light"
          }
        }
      ]
    },
    {
      "cell_type": "code",
      "metadata": {
        "id": "eK1GjZna_a7y",
        "colab_type": "code",
        "colab": {
          "base_uri": "https://localhost:8080/",
          "height": 268
        },
        "outputId": "c80a1322-e7c8-42b8-801e-71a96d11d1b2"
      },
      "source": [
        "plt.plot(learn.history['loss'])\n",
        "plt.plot(learn.history['val_loss']);"
      ],
      "execution_count": 39,
      "outputs": [
        {
          "output_type": "display_data",
          "data": {
            "image/png": "[encoded data removed]",
            "text/plain": [
              "<Figure size 432x288 with 1 Axes>"
            ]
          },
          "metadata": {
            "tags": [],
            "needs_background": "light"
          }
        }
      ]
    },
    {
      "cell_type": "markdown",
      "metadata": {
        "id": "dzQsvXMZ7uNL",
        "colab_type": "text"
      },
      "source": [
        "#Using GRU"
      ]
    },
    {
      "cell_type": "code",
      "metadata": {
        "id": "95o6D4tbovRP",
        "colab_type": "code",
        "outputId": "b5e8d172-445e-4303-ec20-59f81e3bdda8",
        "colab": {
          "base_uri": "https://localhost:8080/",
          "height": 289
        }
      },
      "source": [
        "model = tf.keras.Sequential([\n",
        "    tf.keras.layers.Embedding(vocab_size, 16, input_length=120),\n",
        "    tf.keras.layers.Bidirectional(tf.keras.layers.GRU(32)),\n",
        "    tf.keras.layers.Dense(6, activation='relu'),\n",
        "    tf.keras.layers.Dense(1, activation='sigmoid')\n",
        "])\n",
        "model.compile(loss='binary_crossentropy',optimizer='adam',metrics=['accuracy'])\n",
        "model.summary()"
      ],
      "execution_count": 40,
      "outputs": [
        {
          "output_type": "stream",
          "text": [
            "Model: \"sequential_11\"\n",
            "_________________________________________________________________\n",
            "Layer (type)                 Output Shape              Param #   \n",
            "=================================================================\n",
            "embedding_11 (Embedding)     (None, 120, 16)           160000    \n",
            "_________________________________________________________________\n",
            "bidirectional_4 (Bidirection (None, 64)                9600      \n",
            "_________________________________________________________________\n",
            "dense_13 (Dense)             (None, 6)                 390       \n",
            "_________________________________________________________________\n",
            "dense_14 (Dense)             (None, 1)                 7         \n",
            "=================================================================\n",
            "Total params: 169,997\n",
            "Trainable params: 169,997\n",
            "Non-trainable params: 0\n",
            "_________________________________________________________________\n"
          ],
          "name": "stdout"
        }
      ]
    },
    {
      "cell_type": "code",
      "metadata": {
        "id": "-21W3So1Apmx",
        "colab_type": "code",
        "colab": {
          "base_uri": "https://localhost:8080/",
          "height": 357
        },
        "outputId": "179a43f1-e584-4f91-c871-4781cf4ca887"
      },
      "source": [
        "num_epochs = 10 \n",
        "learn1 = model.fit(x = padded_seq_train,y= Y_tain,epochs=num_epochs,validation_data=(padded_seq_test,Y_test))"
      ],
      "execution_count": 46,
      "outputs": [
        {
          "output_type": "stream",
          "text": [
            "Epoch 1/10\n",
            "668/668 [==============================] - 9s 14ms/step - loss: 0.4292 - accuracy: 0.7902 - val_loss: 0.3616 - val_accuracy: 0.8399\n",
            "Epoch 2/10\n",
            "668/668 [==============================] - 9s 14ms/step - loss: 0.2205 - accuracy: 0.9120 - val_loss: 0.3964 - val_accuracy: 0.8345\n",
            "Epoch 3/10\n",
            "668/668 [==============================] - 9s 14ms/step - loss: 0.1069 - accuracy: 0.9637 - val_loss: 0.4957 - val_accuracy: 0.8319\n",
            "Epoch 4/10\n",
            "668/668 [==============================] - 9s 14ms/step - loss: 0.0410 - accuracy: 0.9876 - val_loss: 0.6406 - val_accuracy: 0.8317\n",
            "Epoch 5/10\n",
            "668/668 [==============================] - 9s 13ms/step - loss: 0.0145 - accuracy: 0.9967 - val_loss: 0.8233 - val_accuracy: 0.8261\n",
            "Epoch 6/10\n",
            "668/668 [==============================] - 9s 13ms/step - loss: 0.0053 - accuracy: 0.9989 - val_loss: 0.8961 - val_accuracy: 0.8340\n",
            "Epoch 7/10\n",
            "668/668 [==============================] - 9s 13ms/step - loss: 0.0017 - accuracy: 0.9996 - val_loss: 1.0046 - val_accuracy: 0.8280\n",
            "Epoch 8/10\n",
            "668/668 [==============================] - 9s 13ms/step - loss: 7.4600e-04 - accuracy: 0.9999 - val_loss: 1.0683 - val_accuracy: 0.8323\n",
            "Epoch 9/10\n",
            "668/668 [==============================] - 9s 14ms/step - loss: 6.6001e-04 - accuracy: 0.9998 - val_loss: 1.1481 - val_accuracy: 0.8297\n",
            "Epoch 10/10\n",
            "668/668 [==============================] - 9s 13ms/step - loss: 8.3966e-04 - accuracy: 0.9999 - val_loss: 1.2406 - val_accuracy: 0.8300\n"
          ],
          "name": "stdout"
        }
      ]
    },
    {
      "cell_type": "code",
      "metadata": {
        "id": "6n8U1fn_A1XT",
        "colab_type": "code",
        "colab": {
          "base_uri": "https://localhost:8080/",
          "height": 282
        },
        "outputId": "d89e2622-2d38-473e-9ed7-79358939743d"
      },
      "source": [
        "plt.plot(learn1.history['accuracy'])\n",
        "plt.plot(learn1.history['val_accuracy'])"
      ],
      "execution_count": 47,
      "outputs": [
        {
          "output_type": "execute_result",
          "data": {
            "text/plain": [
              "[<matplotlib.lines.Line2D at 0x7faca1e738d0>]"
            ]
          },
          "metadata": {
            "tags": []
          },
          "execution_count": 47
        },
        {
          "output_type": "display_data",
          "data": {
            "image/png": "[encoded data removed]",
            "text/plain": [
              "<Figure size 432x288 with 1 Axes>"
            ]
          },
          "metadata": {
            "tags": [],
            "needs_background": "light"
          }
        }
      ]
    },
    {
      "cell_type": "code",
      "metadata": {
        "id": "PA5V1iiLA5H3",
        "colab_type": "code",
        "colab": {
          "base_uri": "https://localhost:8080/",
          "height": 268
        },
        "outputId": "27380930-b7a9-40ab-c373-fbd635cb99bc"
      },
      "source": [
        "plt.plot(learn.history['loss'])\n",
        "plt.plot(learn.history['val_loss']);"
      ],
      "execution_count": 48,
      "outputs": [
        {
          "output_type": "display_data",
          "data": {
            "image/png": "[encoded data removed]",
            "text/plain": [
              "<Figure size 432x288 with 1 Axes>"
            ]
          },
          "metadata": {
            "tags": [],
            "needs_background": "light"
          }
        }
      ]
    }
  ]
}