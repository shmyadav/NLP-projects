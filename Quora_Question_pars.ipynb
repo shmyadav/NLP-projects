{
  "nbformat": 4,
  "nbformat_minor": 0,
  "metadata": {
    "colab": {
      "name": "Quora Question pars.ipynb",
      "provenance": [],
      "collapsed_sections": [],
      "machine_shape": "hm"
    },
    "kernelspec": {
      "name": "python3",
      "display_name": "Python 3"
    }
  },
  "cells": [
    {
      "cell_type": "markdown",
      "metadata": {
        "id": "7ZhN39s5eSn4",
        "colab_type": "text"
      },
      "source": [
        "# Objective\n",
        "The goal is to predict which of the provided pairs of questions contain two questions with the same meaning. The ground truth is the set of labels that have been supplied by human experts. The ground truth labels are inherently subjective, as the true meaning of sentences can never be known with certainty. Human labeling is also a 'noisy' process, and reasonable people will disagree. As a result, the ground truth labels on this dataset should be taken to be 'informed' but not 100% accurate, and may include incorrect labeling. We believe the labels, on the whole, to represent a reasonable consensus, but this may often not be true on a case by case basis for individual items in the dataset.\n",
        "\n",
        "# Dataset\n",
        "id - the id of a training set question pair\n",
        "\n",
        "* qid1, qid2 - unique ids of each question   \n",
        "* question1, question2 - the full text of each question  \n",
        "* is_duplicate - the target variable, set to 1 if question1 and question2 have essentially the same meaning, and 0 otherwise."
      ]
    },
    {
      "cell_type": "code",
      "metadata": {
        "id": "XH5Ib0CjBWaI",
        "colab_type": "code",
        "outputId": "fc6089a9-a332-4117-bd2b-ccdcf430187e",
        "colab": {
          "base_uri": "https://localhost:8080/",
          "height": 51
        }
      },
      "source": [
        "#importing pandas\n",
        "import pandas as pd \n",
        "import numpy as np\n",
        "from nltk.corpus import stopwords\n",
        "######\n",
        "import nltk\n",
        "nltk.download('stopwords')\n",
        "\n",
        "\n",
        "import matplotlib.pyplot as plt\n",
        "import time\n",
        "import warnings\n",
        "warnings.filterwarnings(\"ignore\")\n",
        "import numpy as np\n",
        "import seaborn as sns\n",
        "from sklearn.metrics import confusion_matrix\n",
        "from sklearn.metrics.classification import accuracy_score, log_loss\n",
        "from sklearn.feature_extraction.text import TfidfVectorizer\n",
        "from sklearn.model_selection import train_test_split\n",
        "from sklearn.model_selection import GridSearchCV\n",
        "from sklearn.model_selection import cross_val_score\n",
        "from sklearn import model_selection"
      ],
      "execution_count": 61,
      "outputs": [
        {
          "output_type": "stream",
          "text": [
            "[nltk_data] Downloading package stopwords to /root/nltk_data...\n",
            "[nltk_data]   Package stopwords is already up-to-date!\n"
          ],
          "name": "stdout"
        }
      ]
    },
    {
      "cell_type": "code",
      "metadata": {
        "id": "a3UXsdwrbqbO",
        "colab_type": "code",
        "colab": {}
      },
      "source": [
        "#read file\n",
        "quest= pd.read_csv('/content/drive/My Drive/Quora_train.csv')"
      ],
      "execution_count": 0,
      "outputs": []
    },
    {
      "cell_type": "code",
      "metadata": {
        "id": "OVNf2yR28XJp",
        "colab_type": "code",
        "outputId": "cef1e444-45e7-4104-9939-4a023ba72bb3",
        "colab": {
          "base_uri": "https://localhost:8080/",
          "height": 238
        }
      },
      "source": [
        "quest = quest.loc[0:500]\n",
        "quest.info()"
      ],
      "execution_count": 3,
      "outputs": [
        {
          "output_type": "stream",
          "text": [
            "<class 'pandas.core.frame.DataFrame'>\n",
            "RangeIndex: 501 entries, 0 to 500\n",
            "Data columns (total 6 columns):\n",
            " #   Column        Non-Null Count  Dtype \n",
            "---  ------        --------------  ----- \n",
            " 0   id            501 non-null    int64 \n",
            " 1   qid1          501 non-null    int64 \n",
            " 2   qid2          501 non-null    int64 \n",
            " 3   question1     501 non-null    object\n",
            " 4   question2     501 non-null    object\n",
            " 5   is_duplicate  501 non-null    int64 \n",
            "dtypes: int64(4), object(2)\n",
            "memory usage: 23.6+ KB\n"
          ],
          "name": "stdout"
        }
      ]
    },
    {
      "cell_type": "code",
      "metadata": {
        "id": "gfwJwPkMe2Os",
        "colab_type": "code",
        "colab": {}
      },
      "source": [
        "#removing ID columns\n",
        "quest.drop(columns = 'id',inplace = True)"
      ],
      "execution_count": 0,
      "outputs": []
    },
    {
      "cell_type": "code",
      "metadata": {
        "id": "MfPQioMeAIeM",
        "colab_type": "code",
        "colab": {}
      },
      "source": [
        "#romovng missing values\n",
        "quest.dropna(inplace= True)\n",
        "quest.reset_index(inplace=True)\n"
      ],
      "execution_count": 0,
      "outputs": []
    },
    {
      "cell_type": "markdown",
      "metadata": {
        "id": "js32cqlv8iCz",
        "colab_type": "text"
      },
      "source": [
        "Total Duplicate rows"
      ]
    },
    {
      "cell_type": "code",
      "metadata": {
        "id": "uTczSph4AUQG",
        "colab_type": "code",
        "outputId": "4ea87715-a472-4272-f575-87d07b7fd193",
        "colab": {
          "base_uri": "https://localhost:8080/",
          "height": 34
        }
      },
      "source": [
        "#total no of duplicate pairs\n",
        "duplicates = quest.duplicated().sum()\n",
        "print('total number of duplicate pairs are {}'.format(duplicates))"
      ],
      "execution_count": 6,
      "outputs": [
        {
          "output_type": "stream",
          "text": [
            "total number of duplicate pairs are 0\n"
          ],
          "name": "stdout"
        }
      ]
    },
    {
      "cell_type": "markdown",
      "metadata": {
        "id": "YkGk1OaN89AJ",
        "colab_type": "text"
      },
      "source": [
        "Total no of unique questions"
      ]
    },
    {
      "cell_type": "code",
      "metadata": {
        "id": "LMXrIbii9B1x",
        "colab_type": "code",
        "outputId": "7f9df21d-0433-4b49-d371-05d7abb8e085",
        "colab": {
          "base_uri": "https://localhost:8080/",
          "height": 51
        }
      },
      "source": [
        "corpus = pd.concat([quest.question1,quest.question2])\n",
        "duplicates = corpus.duplicated().sum()\n",
        "print('Total no of unique questions are {}'.format(corpus.nunique()))\n",
        "print('Total no of questions that appear more then one time are {}'.format((corpus.value_counts()>1).sum()))"
      ],
      "execution_count": 7,
      "outputs": [
        {
          "output_type": "stream",
          "text": [
            "Total no of unique questions are 999\n",
            "Total no of questions that appear more then one time are 3\n"
          ],
          "name": "stdout"
        }
      ]
    },
    {
      "cell_type": "code",
      "metadata": {
        "id": "rfXA_t7ADikj",
        "colab_type": "code",
        "outputId": "9eabd59c-d7ec-4f71-c34f-14301faebc82",
        "colab": {
          "base_uri": "https://localhost:8080/",
          "height": 537
        }
      },
      "source": [
        "import matplotlib.pyplot as plt\n",
        "import seaborn as sns\n",
        "a = [\"unique questions\" , \"Repeated questions\"]\n",
        "b =  [corpus.nunique() , (corpus.value_counts()>1).sum()]\n",
        "\n",
        "plt.figure(figsize=(9, 8))\n",
        "sns.barplot(a,b)\n",
        "plt.show()"
      ],
      "execution_count": 8,
      "outputs": [
        {
          "output_type": "stream",
          "text": [
            "/usr/local/lib/python3.6/dist-packages/statsmodels/tools/_testing.py:19: FutureWarning: pandas.util.testing is deprecated. Use the functions in the public API at pandas.testing instead.\n",
            "  import pandas.util.testing as tm\n"
          ],
          "name": "stderr"
        },
        {
          "output_type": "display_data",
          "data": {
            "image/png": "[encoded data removed]",
            "text/plain": [
              "<Figure size 648x576 with 1 Axes>"
            ]
          },
          "metadata": {
            "tags": [],
            "needs_background": "light"
          }
        }
      ]
    },
    {
      "cell_type": "code",
      "metadata": {
        "id": "aYNUkLrfG6cE",
        "colab_type": "code",
        "outputId": "fd8597df-d155-443a-d36f-230733b3ef93",
        "colab": {
          "base_uri": "https://localhost:8080/",
          "height": 592
        }
      },
      "source": [
        "#no of time each question occurs\n",
        "plt.figure(figsize=(20, 10))\n",
        "\n",
        "plt.hist(corpus.value_counts(), bins=100)\n",
        "plt.yscale('log')"
      ],
      "execution_count": 9,
      "outputs": [
        {
          "output_type": "display_data",
          "data": {
            "image/png": "[encoded data removed]",
            "text/plain": [
              "<Figure size 1440x720 with 1 Axes>"
            ]
          },
          "metadata": {
            "tags": [],
            "needs_background": "light"
          }
        }
      ]
    },
    {
      "cell_type": "markdown",
      "metadata": {
        "id": "R3bLeB5TJeGh",
        "colab_type": "text"
      },
      "source": [
        "Basic Feature Extraction:<br>\n",
        "Let us now construct a few features like:<br>\n",
        "freq_q1 = Frequency of qid1's<br>\n",
        "freq_q2 = Frequency of qid2's<br>\n",
        "q1_len = Length of q1<br>\n",
        "q2_len = Length of q2<br>\n",
        "q1_n_words = Number of words in Question 1<br>\n",
        "q2_n_words = Number of words in Question 2<br>\n",
        "word_Common = (Number of common words in Question 1 and Question 2)<br>\n",
        "word_Total =(Total num of words in Question 1 + Total num of words in Question 2)<br>\n",
        "word_share = (word_common)/(word_Total)<br>\n",
        "freq_q1+freq_q2 = sum total of frequency of qid1 and qid2<br>\n",
        "freq_q1-freq_q2 = absolute difference of frequency of qid1 and qid2<br>"
      ]
    },
    {
      "cell_type": "code",
      "metadata": {
        "id": "1FerTrKyJsGh",
        "colab_type": "code",
        "outputId": "887f09cc-aa0b-45c4-c2f4-abcccae3cb24",
        "colab": {
          "base_uri": "https://localhost:8080/",
          "height": 204
        }
      },
      "source": [
        "quest.head()"
      ],
      "execution_count": 10,
      "outputs": [
        {
          "output_type": "execute_result",
          "data": {
            "text/html": [
              "<div>\n",
              "<style scoped>\n",
              "    .dataframe tbody tr th:only-of-type {\n",
              "        vertical-align: middle;\n",
              "    }\n",
              "\n",
              "    .dataframe tbody tr th {\n",
              "        vertical-align: top;\n",
              "    }\n",
              "\n",
              "    .dataframe thead th {\n",
              "        text-align: right;\n",
              "    }\n",
              "</style>\n",
              "<table border=\"1\" class=\"dataframe\">\n",
              "  <thead>\n",
              "    <tr style=\"text-align: right;\">\n",
              "      <th></th>\n",
              "      <th>index</th>\n",
              "      <th>qid1</th>\n",
              "      <th>qid2</th>\n",
              "      <th>question1</th>\n",
              "      <th>question2</th>\n",
              "      <th>is_duplicate</th>\n",
              "    </tr>\n",
              "  </thead>\n",
              "  <tbody>\n",
              "    <tr>\n",
              "      <th>0</th>\n",
              "      <td>0</td>\n",
              "      <td>1</td>\n",
              "      <td>2</td>\n",
              "      <td>What is the step by step guide to invest in sh...</td>\n",
              "      <td>What is the step by step guide to invest in sh...</td>\n",
              "      <td>0</td>\n",
              "    </tr>\n",
              "    <tr>\n",
              "      <th>1</th>\n",
              "      <td>1</td>\n",
              "      <td>3</td>\n",
              "      <td>4</td>\n",
              "      <td>What is the story of Kohinoor (Koh-i-Noor) Dia...</td>\n",
              "      <td>What would happen if the Indian government sto...</td>\n",
              "      <td>0</td>\n",
              "    </tr>\n",
              "    <tr>\n",
              "      <th>2</th>\n",
              "      <td>2</td>\n",
              "      <td>5</td>\n",
              "      <td>6</td>\n",
              "      <td>How can I increase the speed of my internet co...</td>\n",
              "      <td>How can Internet speed be increased by hacking...</td>\n",
              "      <td>0</td>\n",
              "    </tr>\n",
              "    <tr>\n",
              "      <th>3</th>\n",
              "      <td>3</td>\n",
              "      <td>7</td>\n",
              "      <td>8</td>\n",
              "      <td>Why am I mentally very lonely? How can I solve...</td>\n",
              "      <td>Find the remainder when [math]23^{24}[/math] i...</td>\n",
              "      <td>0</td>\n",
              "    </tr>\n",
              "    <tr>\n",
              "      <th>4</th>\n",
              "      <td>4</td>\n",
              "      <td>9</td>\n",
              "      <td>10</td>\n",
              "      <td>Which one dissolve in water quikly sugar, salt...</td>\n",
              "      <td>Which fish would survive in salt water?</td>\n",
              "      <td>0</td>\n",
              "    </tr>\n",
              "  </tbody>\n",
              "</table>\n",
              "</div>"
            ],
            "text/plain": [
              "   index  qid1  ...                                          question2 is_duplicate\n",
              "0      0     1  ...  What is the step by step guide to invest in sh...            0\n",
              "1      1     3  ...  What would happen if the Indian government sto...            0\n",
              "2      2     5  ...  How can Internet speed be increased by hacking...            0\n",
              "3      3     7  ...  Find the remainder when [math]23^{24}[/math] i...            0\n",
              "4      4     9  ...            Which fish would survive in salt water?            0\n",
              "\n",
              "[5 rows x 6 columns]"
            ]
          },
          "metadata": {
            "tags": []
          },
          "execution_count": 10
        }
      ]
    },
    {
      "cell_type": "code",
      "metadata": {
        "id": "Di8rOCPbJ6qE",
        "colab_type": "code",
        "colab": {}
      },
      "source": [
        "quest['freq_q1'] = quest.groupby('qid1')['qid1'].transform('count') \n",
        "quest['freq_q2'] = quest.groupby('qid2')['qid2'].transform('count')\n",
        "quest['q1_len'] = quest['question1'].str.len() \n",
        "quest['q2_len'] = quest['question2'].str.len()\n",
        "quest['q1_n_words'] = quest['question1'].apply(lambda row: len(row.split(\" \")))\n",
        "quest['q2_n_words'] = quest['question2'].apply(lambda row: len(row.split(\" \")))\n",
        "#common words in question 1 & 2\n",
        "c_w=[]\n",
        "t_w=[]\n",
        "n_w_c = []\n",
        "for i in range(quest.shape[0]):\n",
        "  w1 = quest.question1[i].lower().strip().split()\n",
        "  w2 = quest.question2[i].lower().strip().split()\n",
        "  uni_1 = []\n",
        "  uni_2 = []\n",
        "  [uni_1.append(x) for x in w1 if x not in uni_1]\n",
        "  [uni_2.append(x) for x in w2 if x not in uni_2]\n",
        "  a = [i for i in uni_1 if i in uni_2]\n",
        "  c_w.append(len(a))\n",
        "  t_w.append(len(uni_1)+len(uni_2))\n",
        "  n_w_c.append(len(a)/(len(uni_1)+len(uni_2)))\n",
        "\n",
        "quest['common_words'] = pd.Series(c_w)\n",
        "quest['Total_words_q1_q2'] = pd.Series(t_w)\n",
        "quest['normalised_word_count'] = pd.Series(n_w_c)\n",
        "quest['freq_q1+q2'] = quest['freq_q1']+quest['freq_q2']\n",
        "quest['freq_q1-q2'] = abs(quest['freq_q1']-quest['freq_q2'])"
      ],
      "execution_count": 0,
      "outputs": []
    },
    {
      "cell_type": "code",
      "metadata": {
        "id": "WzrkzU8ih275",
        "colab_type": "code",
        "outputId": "c82ecb15-d982-48ea-a02b-c0db89afb321",
        "colab": {
          "base_uri": "https://localhost:8080/",
          "height": 649
        }
      },
      "source": [
        "quest.head()"
      ],
      "execution_count": 12,
      "outputs": [
        {
          "output_type": "execute_result",
          "data": {
            "text/html": [
              "<div>\n",
              "<style scoped>\n",
              "    .dataframe tbody tr th:only-of-type {\n",
              "        vertical-align: middle;\n",
              "    }\n",
              "\n",
              "    .dataframe tbody tr th {\n",
              "        vertical-align: top;\n",
              "    }\n",
              "\n",
              "    .dataframe thead th {\n",
              "        text-align: right;\n",
              "    }\n",
              "</style>\n",
              "<table border=\"1\" class=\"dataframe\">\n",
              "  <thead>\n",
              "    <tr style=\"text-align: right;\">\n",
              "      <th></th>\n",
              "      <th>index</th>\n",
              "      <th>qid1</th>\n",
              "      <th>qid2</th>\n",
              "      <th>question1</th>\n",
              "      <th>question2</th>\n",
              "      <th>is_duplicate</th>\n",
              "      <th>freq_q1</th>\n",
              "      <th>freq_q2</th>\n",
              "      <th>q1_len</th>\n",
              "      <th>q2_len</th>\n",
              "      <th>q1_n_words</th>\n",
              "      <th>q2_n_words</th>\n",
              "      <th>common_words</th>\n",
              "      <th>Total_words_q1_q2</th>\n",
              "      <th>normalised_word_count</th>\n",
              "      <th>freq_q1+q2</th>\n",
              "      <th>freq_q1-q2</th>\n",
              "    </tr>\n",
              "  </thead>\n",
              "  <tbody>\n",
              "    <tr>\n",
              "      <th>0</th>\n",
              "      <td>0</td>\n",
              "      <td>1</td>\n",
              "      <td>2</td>\n",
              "      <td>What is the step by step guide to invest in sh...</td>\n",
              "      <td>What is the step by step guide to invest in sh...</td>\n",
              "      <td>0</td>\n",
              "      <td>1</td>\n",
              "      <td>1</td>\n",
              "      <td>66</td>\n",
              "      <td>57</td>\n",
              "      <td>14</td>\n",
              "      <td>12</td>\n",
              "      <td>10</td>\n",
              "      <td>23</td>\n",
              "      <td>0.434783</td>\n",
              "      <td>2</td>\n",
              "      <td>0</td>\n",
              "    </tr>\n",
              "    <tr>\n",
              "      <th>1</th>\n",
              "      <td>1</td>\n",
              "      <td>3</td>\n",
              "      <td>4</td>\n",
              "      <td>What is the story of Kohinoor (Koh-i-Noor) Dia...</td>\n",
              "      <td>What would happen if the Indian government sto...</td>\n",
              "      <td>0</td>\n",
              "      <td>1</td>\n",
              "      <td>1</td>\n",
              "      <td>51</td>\n",
              "      <td>88</td>\n",
              "      <td>8</td>\n",
              "      <td>13</td>\n",
              "      <td>4</td>\n",
              "      <td>20</td>\n",
              "      <td>0.200000</td>\n",
              "      <td>2</td>\n",
              "      <td>0</td>\n",
              "    </tr>\n",
              "    <tr>\n",
              "      <th>2</th>\n",
              "      <td>2</td>\n",
              "      <td>5</td>\n",
              "      <td>6</td>\n",
              "      <td>How can I increase the speed of my internet co...</td>\n",
              "      <td>How can Internet speed be increased by hacking...</td>\n",
              "      <td>0</td>\n",
              "      <td>1</td>\n",
              "      <td>1</td>\n",
              "      <td>73</td>\n",
              "      <td>59</td>\n",
              "      <td>14</td>\n",
              "      <td>10</td>\n",
              "      <td>4</td>\n",
              "      <td>24</td>\n",
              "      <td>0.166667</td>\n",
              "      <td>2</td>\n",
              "      <td>0</td>\n",
              "    </tr>\n",
              "    <tr>\n",
              "      <th>3</th>\n",
              "      <td>3</td>\n",
              "      <td>7</td>\n",
              "      <td>8</td>\n",
              "      <td>Why am I mentally very lonely? How can I solve...</td>\n",
              "      <td>Find the remainder when [math]23^{24}[/math] i...</td>\n",
              "      <td>0</td>\n",
              "      <td>1</td>\n",
              "      <td>1</td>\n",
              "      <td>50</td>\n",
              "      <td>65</td>\n",
              "      <td>11</td>\n",
              "      <td>9</td>\n",
              "      <td>0</td>\n",
              "      <td>19</td>\n",
              "      <td>0.000000</td>\n",
              "      <td>2</td>\n",
              "      <td>0</td>\n",
              "    </tr>\n",
              "    <tr>\n",
              "      <th>4</th>\n",
              "      <td>4</td>\n",
              "      <td>9</td>\n",
              "      <td>10</td>\n",
              "      <td>Which one dissolve in water quikly sugar, salt...</td>\n",
              "      <td>Which fish would survive in salt water?</td>\n",
              "      <td>0</td>\n",
              "      <td>1</td>\n",
              "      <td>1</td>\n",
              "      <td>76</td>\n",
              "      <td>39</td>\n",
              "      <td>13</td>\n",
              "      <td>7</td>\n",
              "      <td>2</td>\n",
              "      <td>20</td>\n",
              "      <td>0.100000</td>\n",
              "      <td>2</td>\n",
              "      <td>0</td>\n",
              "    </tr>\n",
              "  </tbody>\n",
              "</table>\n",
              "</div>"
            ],
            "text/plain": [
              "   index  qid1  qid2  ... normalised_word_count freq_q1+q2  freq_q1-q2\n",
              "0      0     1     2  ...              0.434783          2           0\n",
              "1      1     3     4  ...              0.200000          2           0\n",
              "2      2     5     6  ...              0.166667          2           0\n",
              "3      3     7     8  ...              0.000000          2           0\n",
              "4      4     9    10  ...              0.100000          2           0\n",
              "\n",
              "[5 rows x 17 columns]"
            ]
          },
          "metadata": {
            "tags": []
          },
          "execution_count": 12
        }
      ]
    },
    {
      "cell_type": "code",
      "metadata": {
        "id": "LNuKZ_YDo2GD",
        "colab_type": "code",
        "outputId": "7b17ead4-6d17-4f23-b7a5-2cfb8db61ed3",
        "colab": {
          "base_uri": "https://localhost:8080/",
          "height": 85
        }
      },
      "source": [
        "print (\"Minimum length of the questions in question1 : \" , min(quest['q1_n_words']))\n",
        "\n",
        "print (\"Minimum length of the questions in question2 : \" , min(quest['q2_n_words']))\n",
        "\n",
        "print (\"Number of Questions in question 1 columns with minimum length :\", len(quest[quest.q1_n_words== 1].index))\n",
        "print (\"Number of Questions in question 2 columns with minimum length :\",  len(quest[quest.q2_n_words== 1].index))"
      ],
      "execution_count": 13,
      "outputs": [
        {
          "output_type": "stream",
          "text": [
            "Minimum length of the questions in question1 :  3\n",
            "Minimum length of the questions in question2 :  3\n",
            "Number of Questions in question 1 columns with minimum length : 0\n",
            "Number of Questions in question 2 columns with minimum length : 0\n"
          ],
          "name": "stdout"
        }
      ]
    },
    {
      "cell_type": "code",
      "metadata": {
        "id": "aBGaiOssCCGL",
        "colab_type": "code",
        "outputId": "198a5a72-b744-4a8f-9b94-caff37bd2ea7",
        "colab": {
          "base_uri": "https://localhost:8080/",
          "height": 623
        }
      },
      "source": [
        "plt.figure(figsize=(15, 10))\n",
        "plt.subplot(1,2,1)\n",
        "sns.violinplot(x = quest.is_duplicate, y = quest.normalised_word_count)\n"
      ],
      "execution_count": 14,
      "outputs": [
        {
          "output_type": "execute_result",
          "data": {
            "text/plain": [
              "<matplotlib.axes._subplots.AxesSubplot at 0x7f3aab3b4358>"
            ]
          },
          "metadata": {
            "tags": []
          },
          "execution_count": 14
        },
        {
          "output_type": "display_data",
          "data": {
            "image/png": "[encoded data removed]",
            "text/plain": [
              "<Figure size 1080x720 with 1 Axes>"
            ]
          },
          "metadata": {
            "tags": [],
            "needs_background": "light"
          }
        }
      ]
    },
    {
      "cell_type": "code",
      "metadata": {
        "id": "P_7lPeXKCB8x",
        "colab_type": "code",
        "outputId": "dd6894cf-f51d-436e-cb56-894aa307e54c",
        "colab": {
          "base_uri": "https://localhost:8080/",
          "height": 606
        }
      },
      "source": [
        "plt.figure(figsize=(15, 10))\n",
        "\n",
        "sns.distplot(quest.loc[quest.is_duplicate == 1.0].normalised_word_count, label = \"1\", color = 'green')\n",
        "sns.distplot(quest.loc[quest.is_duplicate == 0.0].normalised_word_count , label = \"0\" , color = 'black' )\n",
        "\n",
        "plt.show()"
      ],
      "execution_count": 15,
      "outputs": [
        {
          "output_type": "display_data",
          "data": {
            "image/png": "[encoded data removed]",
            "text/plain": [
              "<Figure size 1080x720 with 1 Axes>"
            ]
          },
          "metadata": {
            "tags": [],
            "needs_background": "light"
          }
        }
      ]
    },
    {
      "cell_type": "code",
      "metadata": {
        "id": "DIR4zi0iBKB3",
        "colab_type": "code",
        "colab": {}
      },
      "source": [
        "#Defining Stopwords\n",
        "STOP_WORDS = stopwords.words(\"english\")\n",
        "snow = nltk.stem.SnowballStemmer('english')\n",
        "def cleaner(sentence):\n",
        "  words = []\n",
        "  sent = []\n",
        "  stopwords = nltk.corpus.stopwords.words('english')\n",
        "  import re\n",
        "  sentence = sentence.lower()                 # Converting to lowercase\n",
        "  cleanr = re.compile('<.*?>')\n",
        "  sentence = re.sub(cleanr, ' ', sentence)        #Removing HTML tags\n",
        "  sentence = re.sub(r'[?|!|\\'|\"|#]',r'',sentence)\n",
        "  sentence = re.sub(r'[.|,|)|(|\\|/]',r' ',sentence)       #Removing Punctuations\n",
        "  sentence = re.sub(r\"'ll\",r'will',sentence)\n",
        "  sentence = re.sub(r\"he's\", \"he is\",sentence)\n",
        "  sentence = re.sub(r\"i'm\",r'i am',sentence)\n",
        "  for i in sentence.split():\n",
        "    words.append(snow.stem(i))\n",
        "  sequ = ''\n",
        "  for word in words:\n",
        "    if word not in STOP_WORDS:\n",
        "      sequ = sequ + ' ' + word   \n",
        "\n",
        "  return sequ\n"
      ],
      "execution_count": 0,
      "outputs": []
    },
    {
      "cell_type": "code",
      "metadata": {
        "id": "dnHH1gnGFDqu",
        "colab_type": "code",
        "colab": {}
      },
      "source": [
        "\n",
        "#cleaning data\n",
        "quest.question1 = quest.question1.apply(lambda x: cleaner(x))\n",
        "quest.question2 = quest.question2.apply(lambda x: cleaner(x))"
      ],
      "execution_count": 0,
      "outputs": []
    },
    {
      "cell_type": "code",
      "metadata": {
        "id": "v6PlU9ZlCoHL",
        "colab_type": "code",
        "colab": {}
      },
      "source": [
        "#removing null string\n",
        "def null_sttring_remover(x):\n",
        "  if x == '':\n",
        "    return np.NAN\n",
        "  else:\n",
        "    return x\n",
        "quest.question1 = quest.question1.apply(lambda x: null_sttring_remover(x))\n",
        "quest.question2 = quest.question2.apply(lambda x: null_sttring_remover(x))"
      ],
      "execution_count": 0,
      "outputs": []
    },
    {
      "cell_type": "code",
      "metadata": {
        "id": "KxW_7ZvmDh6I",
        "colab_type": "code",
        "colab": {}
      },
      "source": [
        "#romovng missing values\n",
        "quest.dropna(inplace= True)"
      ],
      "execution_count": 0,
      "outputs": []
    },
    {
      "cell_type": "code",
      "metadata": {
        "id": "OmYKYvNCMExb",
        "colab_type": "code",
        "outputId": "a5fb6be1-ea8f-4b54-c2da-889b4e7eb17b",
        "colab": {
          "base_uri": "https://localhost:8080/",
          "height": 1000
        }
      },
      "source": [
        "#reseting index after removing rows\n",
        "quest = quest.reset_index()\n",
        "quest"
      ],
      "execution_count": 20,
      "outputs": [
        {
          "output_type": "execute_result",
          "data": {
            "text/html": [
              "<div>\n",
              "<style scoped>\n",
              "    .dataframe tbody tr th:only-of-type {\n",
              "        vertical-align: middle;\n",
              "    }\n",
              "\n",
              "    .dataframe tbody tr th {\n",
              "        vertical-align: top;\n",
              "    }\n",
              "\n",
              "    .dataframe thead th {\n",
              "        text-align: right;\n",
              "    }\n",
              "</style>\n",
              "<table border=\"1\" class=\"dataframe\">\n",
              "  <thead>\n",
              "    <tr style=\"text-align: right;\">\n",
              "      <th></th>\n",
              "      <th>level_0</th>\n",
              "      <th>index</th>\n",
              "      <th>qid1</th>\n",
              "      <th>qid2</th>\n",
              "      <th>question1</th>\n",
              "      <th>question2</th>\n",
              "      <th>is_duplicate</th>\n",
              "      <th>freq_q1</th>\n",
              "      <th>freq_q2</th>\n",
              "      <th>q1_len</th>\n",
              "      <th>q2_len</th>\n",
              "      <th>q1_n_words</th>\n",
              "      <th>q2_n_words</th>\n",
              "      <th>common_words</th>\n",
              "      <th>Total_words_q1_q2</th>\n",
              "      <th>normalised_word_count</th>\n",
              "      <th>freq_q1+q2</th>\n",
              "      <th>freq_q1-q2</th>\n",
              "    </tr>\n",
              "  </thead>\n",
              "  <tbody>\n",
              "    <tr>\n",
              "      <th>0</th>\n",
              "      <td>0</td>\n",
              "      <td>0</td>\n",
              "      <td>1</td>\n",
              "      <td>2</td>\n",
              "      <td>step step guid invest share market india</td>\n",
              "      <td>step step guid invest share market</td>\n",
              "      <td>0</td>\n",
              "      <td>1</td>\n",
              "      <td>1</td>\n",
              "      <td>66</td>\n",
              "      <td>57</td>\n",
              "      <td>14</td>\n",
              "      <td>12</td>\n",
              "      <td>10</td>\n",
              "      <td>23</td>\n",
              "      <td>0.434783</td>\n",
              "      <td>2</td>\n",
              "      <td>0</td>\n",
              "    </tr>\n",
              "    <tr>\n",
              "      <th>1</th>\n",
              "      <td>1</td>\n",
              "      <td>1</td>\n",
              "      <td>3</td>\n",
              "      <td>4</td>\n",
              "      <td>stori kohinoor koh-i-noor diamond</td>\n",
              "      <td>would happen indian govern stole kohinoor koh...</td>\n",
              "      <td>0</td>\n",
              "      <td>1</td>\n",
              "      <td>1</td>\n",
              "      <td>51</td>\n",
              "      <td>88</td>\n",
              "      <td>8</td>\n",
              "      <td>13</td>\n",
              "      <td>4</td>\n",
              "      <td>20</td>\n",
              "      <td>0.200000</td>\n",
              "      <td>2</td>\n",
              "      <td>0</td>\n",
              "    </tr>\n",
              "    <tr>\n",
              "      <th>2</th>\n",
              "      <td>2</td>\n",
              "      <td>2</td>\n",
              "      <td>5</td>\n",
              "      <td>6</td>\n",
              "      <td>increas speed internet connect use vpn</td>\n",
              "      <td>internet speed increas hack dns</td>\n",
              "      <td>0</td>\n",
              "      <td>1</td>\n",
              "      <td>1</td>\n",
              "      <td>73</td>\n",
              "      <td>59</td>\n",
              "      <td>14</td>\n",
              "      <td>10</td>\n",
              "      <td>4</td>\n",
              "      <td>24</td>\n",
              "      <td>0.166667</td>\n",
              "      <td>2</td>\n",
              "      <td>0</td>\n",
              "    </tr>\n",
              "    <tr>\n",
              "      <th>3</th>\n",
              "      <td>3</td>\n",
              "      <td>3</td>\n",
              "      <td>7</td>\n",
              "      <td>8</td>\n",
              "      <td>whi mental veri lone solv</td>\n",
              "      <td>find remaind [math]23^{24}[ math] divid 24 23</td>\n",
              "      <td>0</td>\n",
              "      <td>1</td>\n",
              "      <td>1</td>\n",
              "      <td>50</td>\n",
              "      <td>65</td>\n",
              "      <td>11</td>\n",
              "      <td>9</td>\n",
              "      <td>0</td>\n",
              "      <td>19</td>\n",
              "      <td>0.000000</td>\n",
              "      <td>2</td>\n",
              "      <td>0</td>\n",
              "    </tr>\n",
              "    <tr>\n",
              "      <th>4</th>\n",
              "      <td>4</td>\n",
              "      <td>4</td>\n",
              "      <td>9</td>\n",
              "      <td>10</td>\n",
              "      <td>one dissolv water quik sugar salt methan carb...</td>\n",
              "      <td>fish would surviv salt water</td>\n",
              "      <td>0</td>\n",
              "      <td>1</td>\n",
              "      <td>1</td>\n",
              "      <td>76</td>\n",
              "      <td>39</td>\n",
              "      <td>13</td>\n",
              "      <td>7</td>\n",
              "      <td>2</td>\n",
              "      <td>20</td>\n",
              "      <td>0.100000</td>\n",
              "      <td>2</td>\n",
              "      <td>0</td>\n",
              "    </tr>\n",
              "    <tr>\n",
              "      <th>...</th>\n",
              "      <td>...</td>\n",
              "      <td>...</td>\n",
              "      <td>...</td>\n",
              "      <td>...</td>\n",
              "      <td>...</td>\n",
              "      <td>...</td>\n",
              "      <td>...</td>\n",
              "      <td>...</td>\n",
              "      <td>...</td>\n",
              "      <td>...</td>\n",
              "      <td>...</td>\n",
              "      <td>...</td>\n",
              "      <td>...</td>\n",
              "      <td>...</td>\n",
              "      <td>...</td>\n",
              "      <td>...</td>\n",
              "      <td>...</td>\n",
              "      <td>...</td>\n",
              "    </tr>\n",
              "    <tr>\n",
              "      <th>496</th>\n",
              "      <td>496</td>\n",
              "      <td>496</td>\n",
              "      <td>990</td>\n",
              "      <td>991</td>\n",
              "      <td>major highway california compar major highway...</td>\n",
              "      <td>major highway california compar major highway...</td>\n",
              "      <td>0</td>\n",
              "      <td>1</td>\n",
              "      <td>1</td>\n",
              "      <td>104</td>\n",
              "      <td>100</td>\n",
              "      <td>18</td>\n",
              "      <td>18</td>\n",
              "      <td>12</td>\n",
              "      <td>26</td>\n",
              "      <td>0.461538</td>\n",
              "      <td>2</td>\n",
              "      <td>0</td>\n",
              "    </tr>\n",
              "    <tr>\n",
              "      <th>497</th>\n",
              "      <td>497</td>\n",
              "      <td>497</td>\n",
              "      <td>992</td>\n",
              "      <td>993</td>\n",
              "      <td>beyond univers</td>\n",
              "      <td>space expand doe new space come</td>\n",
              "      <td>0</td>\n",
              "      <td>1</td>\n",
              "      <td>1</td>\n",
              "      <td>27</td>\n",
              "      <td>58</td>\n",
              "      <td>4</td>\n",
              "      <td>11</td>\n",
              "      <td>0</td>\n",
              "      <td>14</td>\n",
              "      <td>0.000000</td>\n",
              "      <td>2</td>\n",
              "      <td>0</td>\n",
              "    </tr>\n",
              "    <tr>\n",
              "      <th>498</th>\n",
              "      <td>498</td>\n",
              "      <td>498</td>\n",
              "      <td>994</td>\n",
              "      <td>995</td>\n",
              "      <td>grow hair physic chemic chang</td>\n",
              "      <td>bald person ever grow hair back</td>\n",
              "      <td>0</td>\n",
              "      <td>1</td>\n",
              "      <td>1</td>\n",
              "      <td>51</td>\n",
              "      <td>44</td>\n",
              "      <td>10</td>\n",
              "      <td>9</td>\n",
              "      <td>2</td>\n",
              "      <td>18</td>\n",
              "      <td>0.111111</td>\n",
              "      <td>2</td>\n",
              "      <td>0</td>\n",
              "    </tr>\n",
              "    <tr>\n",
              "      <th>499</th>\n",
              "      <td>499</td>\n",
              "      <td>499</td>\n",
              "      <td>996</td>\n",
              "      <td>997</td>\n",
              "      <td>differ cultur histori</td>\n",
              "      <td>chili differ cultur</td>\n",
              "      <td>0</td>\n",
              "      <td>1</td>\n",
              "      <td>1</td>\n",
              "      <td>51</td>\n",
              "      <td>40</td>\n",
              "      <td>8</td>\n",
              "      <td>6</td>\n",
              "      <td>2</td>\n",
              "      <td>14</td>\n",
              "      <td>0.142857</td>\n",
              "      <td>2</td>\n",
              "      <td>0</td>\n",
              "    </tr>\n",
              "    <tr>\n",
              "      <th>500</th>\n",
              "      <td>500</td>\n",
              "      <td>500</td>\n",
              "      <td>998</td>\n",
              "      <td>999</td>\n",
              "      <td>doe mean guy say like</td>\n",
              "      <td>doe mean guy say safe</td>\n",
              "      <td>0</td>\n",
              "      <td>1</td>\n",
              "      <td>1</td>\n",
              "      <td>45</td>\n",
              "      <td>44</td>\n",
              "      <td>11</td>\n",
              "      <td>10</td>\n",
              "      <td>8</td>\n",
              "      <td>21</td>\n",
              "      <td>0.380952</td>\n",
              "      <td>2</td>\n",
              "      <td>0</td>\n",
              "    </tr>\n",
              "  </tbody>\n",
              "</table>\n",
              "<p>501 rows × 18 columns</p>\n",
              "</div>"
            ],
            "text/plain": [
              "     level_0  index  qid1  ...  normalised_word_count freq_q1+q2 freq_q1-q2\n",
              "0          0      0     1  ...               0.434783          2          0\n",
              "1          1      1     3  ...               0.200000          2          0\n",
              "2          2      2     5  ...               0.166667          2          0\n",
              "3          3      3     7  ...               0.000000          2          0\n",
              "4          4      4     9  ...               0.100000          2          0\n",
              "..       ...    ...   ...  ...                    ...        ...        ...\n",
              "496      496    496   990  ...               0.461538          2          0\n",
              "497      497    497   992  ...               0.000000          2          0\n",
              "498      498    498   994  ...               0.111111          2          0\n",
              "499      499    499   996  ...               0.142857          2          0\n",
              "500      500    500   998  ...               0.380952          2          0\n",
              "\n",
              "[501 rows x 18 columns]"
            ]
          },
          "metadata": {
            "tags": []
          },
          "execution_count": 20
        }
      ]
    },
    {
      "cell_type": "markdown",
      "metadata": {
        "id": "b26mR6gxZch3",
        "colab_type": "text"
      },
      "source": [
        "• **common_token_count_max** : Ratio of common_token_count to max lenghth of token count of question 1 and\n",
        "question 2 common_token_count_max = common_token_count / (max(len(q1_tokens), len(q2_tokens))<br><br>\n",
        "• **last_word_eq** : Check if Last word of both questions are equal or not last_word_eq =\n",
        "int(q1_tokens[-1] == q2_tokens[-1])<br><br>\n",
        "• **first_word_eq** : If First word of both questions is equal then True else False.\n",
        "int(q1_tokens[0] == q2_tokens[0])<br><br>\n",
        "• **abs_len_diff** : Abs. length differenceabs_len_diff = abs(len(q1_tokens) - len(q2_tokens))<br><br>\n",
        "• **mean_len** : Average Token Length of both Questions mean_len = (len(q1_tokens) +\n",
        "len(q2_tokens))/2<br><br>\n",
        "• **fuzz_ratio** :FuzzyWuzzy has, just like the Levenshtein package, a ratio function that computes the standard Levenshtein distance similarity ratio between two sequences.Levenshtein distance measures the minimum number of edits that you need to do to change a one-word sequence into the other. These edits can be insertions, deletions or substitutions.<br><br>\n",
        "• **fuzz_partial_ratio** : The way fuzz_partial_ratio works is by using an \"optimal partial\" logic. In other words, if the short string has length k and \n",
        "the longer string has the length m, then the algorithm seeks the score of the best matching length-k substring.<br><br>\n",
        "• **token_sort_ratio** : The token sort approach involves tokenizing the string in question, sorting the tokens alphabetically, and\n",
        "then joining them back into a string We then compare the transformed strings with a simple ratio().<br><br>\n",
        "• **token_set_ratio** : fuzz.token_set_ratio() takes a more flexible approach than fuzz.token_sort_ratio().Instead of just tokenizing the strings, \n",
        "sorting and then pasting the tokens back together, token_set_ratio performs a set operation that takes out the common tokens (the intersection) \n",
        "and then makes fuzz.ratio() pairwise comparisons between the following new strings:<br><br>\n",
        "s1 = Sorted_tokens_in_intersection<br>\n",
        "s2 = Sorted_tokens_in_intersection + sorted_rest_of_str1_tokens<br>\n",
        "s3 = Sorted_tokens_in_intersection + sorted_rest_of_str2_tokens<br>The logic behind these comparisons is that since Sorted_tokens_in_intersection is always the same, the score will tend to go up as these words make up a larger chunk of the original strings or the remaining tokens are closer to each other.<br><br>\n",
        "• **longest_substr_ratio** : Ratio of length longest common substring to min \n",
        "lenghth of\n",
        "token count of Q1 and Q2longest_substr_ratio = <br>len(longest common substring) /\n",
        "(min(len(q1_tokens), len(q2_tokens))\n"
      ]
    },
    {
      "cell_type": "code",
      "metadata": {
        "id": "_c87_ywonlYg",
        "colab_type": "code",
        "colab": {}
      },
      "source": [
        "#common_word_count_min\n",
        "def common_word_count_min(x):\n",
        "  # Converting the Sentence into Tokens: \n",
        "  q1_tokens = x.question1.split()\n",
        "  q2_tokens = x.question2.split()\n",
        "\n",
        "  # Get the non-stopwords in Questions\n",
        "  q1_words = set([word for word in q1_tokens])\n",
        "  q2_words = set([word for word in q2_tokens])\n",
        "\n",
        "  cwc_min =  len(q1_words.intersection(q2_words)) / (min(len(q1_words), len(q2_words)))\n",
        "  return cwc_min\n",
        "\n",
        "\n",
        "#common_word_count_max\n",
        "def common_word_count_max(x):\n",
        "  # Converting the Sentence into Tokens: \n",
        "  q1_tokens = x.question1.split()\n",
        "  q2_tokens = x.question2.split()\n",
        "  # Get the non-stopwords in Questions\n",
        "  q1_words = set([word for word in q1_tokens])\n",
        "  q2_words = set([word for word in q2_tokens])\n",
        "\n",
        "  cwc_max =  len(q1_words.intersection(q2_words)) / (max(len(q1_words), len(q2_words)))\n",
        "  return cwc_max\n",
        "\n",
        "\n",
        "\n",
        "#last_word_eq\n",
        "def last_word_eq(x):\n",
        "  # Converting the Sentence into Tokens: \n",
        "  q1_tokens = x.question1.split()\n",
        "  q2_tokens = x.question2.split()\n",
        "\n",
        "  # Get the non-stopwords in Questions\n",
        "  q1_words = set([word for word in q1_tokens])\n",
        "  q2_words = set([word for word in q2_tokens])\n",
        "\n",
        "  # Last word of both question is same or not\n",
        "  last_word_eq = int(q1_tokens[-1] == q2_tokens[-1])\n",
        "  return last_word_eq\n",
        "\n",
        "#first_word_eq\n",
        "def first_word_eq(x):\n",
        "  # Converting the Sentence into Tokens: \n",
        "  q1_tokens = x.question1.split()\n",
        "  q2_tokens = x.question2.split()\n",
        "\n",
        "  # Get the non-stopwords in Questions\n",
        "  q1_words = set([word for word in q1_tokens])\n",
        "  q2_words = set([word for word in q2_tokens])\n",
        "\n",
        "  # Last word of both question is same or not\n",
        "  first_word_eq = int(q1_tokens[0] == q2_tokens[0])\n",
        "  return first_word_eq\n",
        "\n",
        "#abs_len_diff\n",
        "def abs_len_diff(x):\n",
        "  # Converting the Sentence into Tokens: \n",
        "  q1_tokens = x.question1.split()\n",
        "  q2_tokens = x.question2.split()\n",
        "\n",
        "  # Get the non-stopwords in Questions\n",
        "  q1_words = set([word for word in q1_tokens])\n",
        "  q2_words = set([word for word in q2_tokens])\n",
        "\n",
        "  # Last word of both question is same or not\n",
        "  abs_len_diff = abs(len(q1_tokens) - len(q2_tokens))\n",
        "  return abs_len_diff\n",
        "\n",
        "\n",
        "#mean_len\n",
        "def mean_len(x):\n",
        "  # Converting the Sentence into Tokens: \n",
        "  q1_tokens = x.question1.split()\n",
        "  q2_tokens = x.question2.split()\n",
        "\n",
        "  # Get the non-stopwords in Questions\n",
        "  q1_words = set([word for word in q1_tokens])\n",
        "  q2_words = set([word for word in q2_tokens])\n",
        "\n",
        "  #Average Token Length of both Questions\n",
        "  mean_len = (len(q1_tokens) + len(q2_tokens))/2\n",
        "  return mean_len\n",
        "\n",
        "#get_longest_substr_ratio\n",
        "def get_longest_substr_ratio(a, b):\n",
        "  strs = list(distance.lcsubstrings(a, b))\n",
        "  if len(strs) == 0:\n",
        "    return 0\n",
        "  else:\n",
        "    return len(strs[0]) / (min(len(a), len(b)) + 1)\n",
        "\n",
        "\n",
        "#common_token_count_min\n",
        "def common_token_count_min(x):\n",
        "  # Converting the Sentence into Tokens: \n",
        "  q1_tokens = x.question1.split()\n",
        "  q2_tokens = x.question2.split()\n",
        "\n",
        "  # Get the non-stopwords in Questions\n",
        "  q1_words = set([word for word in q1_tokens])\n",
        "  q2_words = set([word for word in q2_tokens])\n",
        "\n",
        "  ctc_min =  len(set(q1_tokens).intersection(set(q2_tokens))) / (min(len(q1_tokens), len(q2_tokens)))\n",
        "  return ctc_min\n",
        "\n",
        "#common_token_count_max\n",
        "def common_token_count_max(x):\n",
        "  # Converting the Sentence into Tokens: \n",
        "  q1_tokens = x.question1.split()\n",
        "  q2_tokens = x.question2.split()\n",
        "\n",
        "  # Get the non-stopwords in Questions\n",
        "  q1_words = set([word for word in q1_tokens])\n",
        "  q2_words = set([word for word in q2_tokens])\n",
        "\n",
        "  ctc_max =  len(set(q1_tokens).intersection(set(q2_tokens))) / (max(len(q1_tokens), len(q2_tokens)))\n",
        "  return ctc_max"
      ],
      "execution_count": 0,
      "outputs": []
    },
    {
      "cell_type": "code",
      "metadata": {
        "id": "Ydp_0QX7ptVC",
        "colab_type": "code",
        "outputId": "c51c428b-b574-4466-8977-7ff4aad7f28b",
        "colab": {
          "base_uri": "https://localhost:8080/",
          "height": 221
        }
      },
      "source": [
        "quest.apply(lambda x: common_word_count_min(x), axis =1)"
      ],
      "execution_count": 22,
      "outputs": [
        {
          "output_type": "execute_result",
          "data": {
            "text/plain": [
              "0      1.000000\n",
              "1      0.750000\n",
              "2      0.600000\n",
              "3      0.000000\n",
              "4      0.400000\n",
              "         ...   \n",
              "496    0.800000\n",
              "497    0.000000\n",
              "498    0.400000\n",
              "499    0.666667\n",
              "500    0.800000\n",
              "Length: 501, dtype: float64"
            ]
          },
          "metadata": {
            "tags": []
          },
          "execution_count": 22
        }
      ]
    },
    {
      "cell_type": "code",
      "metadata": {
        "id": "8aFcp5kIfsQy",
        "colab_type": "code",
        "colab": {}
      },
      "source": [
        "quest[\"common_word_count_min\"] = quest.apply(lambda x: common_word_count_min(x), axis =1)\n",
        "quest[\"common_word_count_max\"] = quest.apply(lambda x: common_word_count_max(x), axis =1)\n",
        "quest[\"common_token_count_min\"] = quest.apply(lambda x: common_token_count_min(x), axis =1)\n",
        "quest[\"common_token_count_max\"] = quest.apply(lambda x: common_token_count_max(x), axis =1)\n",
        "quest[\"last_word_eq\"] = quest.apply(lambda x: last_word_eq(x), axis =1)\n",
        "quest[\"first_word_eq\"] = quest.apply(lambda x: first_word_eq(x), axis =1)\n",
        "quest[\"abs_len_diff\"] = quest.apply(lambda x: abs_len_diff(x), axis =1)\n",
        "quest[\"mean_len\"] = quest.apply(lambda x: mean_len(x), axis =1)"
      ],
      "execution_count": 0,
      "outputs": []
    },
    {
      "cell_type": "code",
      "metadata": {
        "id": "ZwYSYlQn3tz7",
        "colab_type": "code",
        "outputId": "f986c9b0-5e92-43d4-d78c-84128134dd06",
        "colab": {
          "base_uri": "https://localhost:8080/",
          "height": 139
        }
      },
      "source": [
        "#installing and importing fuzzywuzzy\n",
        "!pip install fuzzywuzzy\n",
        "from fuzzywuzzy import fuzz\n",
        "\n",
        "\n",
        "\n",
        "quest[\"token_set_ratio\"] = quest.apply(lambda x: fuzz.token_set_ratio(x[\"question1\"], x[\"question2\"]), axis=1)\n",
        "\n",
        "\n",
        "\n",
        "quest[\"token_sort_ratio\"] = quest.apply(lambda x: fuzz.token_sort_ratio(x[\"question1\"], x[\"question2\"]), axis=1)\n",
        "\n",
        "\n",
        "\n",
        "quest[\"fuzz_ratio\"] = quest.apply(lambda x: fuzz.QRatio(x[\"question1\"], x[\"question2\"]), axis=1)\n",
        "\n",
        "\n",
        "\n",
        "quest[\"fuzz_partial_ratio\"] = quest.apply(lambda x: fuzz.partial_ratio(x[\"question1\"], x[\"question2\"]), axis=1)"
      ],
      "execution_count": 24,
      "outputs": [
        {
          "output_type": "stream",
          "text": [
            "Collecting fuzzywuzzy\n",
            "  Downloading https://files.pythonhosted.org/packages/43/ff/74f23998ad2f93b945c0309f825be92e04e0348e062026998b5eefef4c33/fuzzywuzzy-0.18.0-py2.py3-none-any.whl\n",
            "Installing collected packages: fuzzywuzzy\n",
            "Successfully installed fuzzywuzzy-0.18.0\n"
          ],
          "name": "stdout"
        },
        {
          "output_type": "stream",
          "text": [
            "/usr/local/lib/python3.6/dist-packages/fuzzywuzzy/fuzz.py:11: UserWarning: Using slow pure-python SequenceMatcher. Install python-Levenshtein to remove this warning\n",
            "  warnings.warn('Using slow pure-python SequenceMatcher. Install python-Levenshtein to remove this warning')\n"
          ],
          "name": "stderr"
        }
      ]
    },
    {
      "cell_type": "code",
      "metadata": {
        "id": "YSQHMPLu6lI6",
        "colab_type": "code",
        "outputId": "0b3136cc-ffbf-4753-a255-72eba2667a05",
        "colab": {
          "base_uri": "https://localhost:8080/",
          "height": 187
        }
      },
      "source": [
        "!pip install Distance\n",
        "\n",
        "import distance\n",
        "quest[\"longest_substr_ratio\"] = quest.apply(lambda x: get_longest_substr_ratio(x[\"question1\"], x[\"question2\"]), axis=1)"
      ],
      "execution_count": 25,
      "outputs": [
        {
          "output_type": "stream",
          "text": [
            "Collecting Distance\n",
            "\u001b[?25l  Downloading https://files.pythonhosted.org/packages/5c/1a/883e47df323437aefa0d0a92ccfb38895d9416bd0b56262c2e46a47767b8/Distance-0.1.3.tar.gz (180kB)\n",
            "\r\u001b[K     |█▉                              | 10kB 17.2MB/s eta 0:00:01\r\u001b[K     |███▋                            | 20kB 1.5MB/s eta 0:00:01\r\u001b[K     |█████▌                          | 30kB 2.0MB/s eta 0:00:01\r\u001b[K     |███████▎                        | 40kB 1.6MB/s eta 0:00:01\r\u001b[K     |█████████                       | 51kB 1.9MB/s eta 0:00:01\r\u001b[K     |███████████                     | 61kB 2.1MB/s eta 0:00:01\r\u001b[K     |████████████▊                   | 71kB 2.3MB/s eta 0:00:01\r\u001b[K     |██████████████▌                 | 81kB 2.5MB/s eta 0:00:01\r\u001b[K     |████████████████▍               | 92kB 2.7MB/s eta 0:00:01\r\u001b[K     |██████████████████▏             | 102kB 2.6MB/s eta 0:00:01\r\u001b[K     |████████████████████            | 112kB 2.6MB/s eta 0:00:01\r\u001b[K     |█████████████████████▉          | 122kB 2.6MB/s eta 0:00:01\r\u001b[K     |███████████████████████▋        | 133kB 2.6MB/s eta 0:00:01\r\u001b[K     |█████████████████████████▌      | 143kB 2.6MB/s eta 0:00:01\r\u001b[K     |███████████████████████████▎    | 153kB 2.6MB/s eta 0:00:01\r\u001b[K     |█████████████████████████████   | 163kB 2.6MB/s eta 0:00:01\r\u001b[K     |███████████████████████████████ | 174kB 2.6MB/s eta 0:00:01\r\u001b[K     |████████████████████████████████| 184kB 2.6MB/s \n",
            "\u001b[?25hBuilding wheels for collected packages: Distance\n",
            "  Building wheel for Distance (setup.py) ... \u001b[?25l\u001b[?25hdone\n",
            "  Created wheel for Distance: filename=Distance-0.1.3-cp36-none-any.whl size=16261 sha256=d6b7b84dfa1424ac9f7e32fc1e4255bcc216e763f0668c4f502de0557245b86e\n",
            "  Stored in directory: /root/.cache/pip/wheels/d5/aa/e1/dbba9e7b6d397d645d0f12db1c66dbae9c5442b39b001db18e\n",
            "Successfully built Distance\n",
            "Installing collected packages: Distance\n",
            "Successfully installed Distance-0.1.3\n"
          ],
          "name": "stdout"
        }
      ]
    },
    {
      "cell_type": "code",
      "metadata": {
        "id": "vaG52X0D4O3k",
        "colab_type": "code",
        "colab": {}
      },
      "source": [
        "#creating a corpus to create word embeddings\n",
        "corpus = list(quest.question1+quest.question2)"
      ],
      "execution_count": 0,
      "outputs": []
    },
    {
      "cell_type": "code",
      "metadata": {
        "id": "3DzM7X_LoWtF",
        "colab_type": "code",
        "colab": {}
      },
      "source": [
        "#vectorizing sentence using tf-idf\n",
        "from sklearn.feature_extraction.text import TfidfVectorizer  \n",
        "tf_idf = TfidfVectorizer()\n",
        "tf_data1 = tf_idf.fit_transform(corpus)"
      ],
      "execution_count": 0,
      "outputs": []
    },
    {
      "cell_type": "code",
      "metadata": {
        "id": "cLm4cFzRjdqC",
        "colab_type": "code",
        "colab": {}
      },
      "source": [
        "# dict key:word and value:tf-idf score\n",
        "word2tfidf = dict(zip(tf_idf.get_feature_names(), tf_idf.idf_))\n"
      ],
      "execution_count": 0,
      "outputs": []
    },
    {
      "cell_type": "markdown",
      "metadata": {
        "id": "5ljCgU209Pee",
        "colab_type": "text"
      },
      "source": [
        "• After we find TF-IDF scores, we convert each question to a weighted average of word2vec\n",
        "vectors by these scores.<br>\n",
        "• here we use a pre-trained GLOVE model which comes free with \"Spacy\".\n",
        "https://spacy.io/usage/vectors-similarity<br>\n",
        "• It is trained on Wikipedia and therefore, it is stronger in terms of word semantics."
      ]
    },
    {
      "cell_type": "code",
      "metadata": {
        "id": "BpbLhJyv7ikI",
        "colab_type": "code",
        "outputId": "69429c24-550a-4f14-974c-26370c8c6535",
        "colab": {
          "base_uri": "https://localhost:8080/",
          "height": 34
        }
      },
      "source": [
        "# tqdm is used to print the progress bar\n",
        "from tqdm import tqdm\n",
        "import en_core_web_sm\n",
        "nlp = en_core_web_sm.load()\n",
        "vecs1 = []\n",
        "for qu1 in tqdm(list(quest['question1'])):\n",
        "  doc1 = nlp(qu1)\n",
        "  # 96 is the number of dimensions of vectors\n",
        "  mean_vec1 = np.zeros([len(doc1), 96])\n",
        "  for word1 in doc1:\n",
        "    # word2vec\n",
        "    vec1 = word1.vector\n",
        "    # fetch df score\n",
        "    try:\n",
        "      tf_idf = word2tfidf[str(word1)]\n",
        "    except:\n",
        "      tf_idf = 0\n",
        "    # compute final vec\n",
        "    mean_vec_1 =mean_vec1+ np.dot(vec1, tf_idf)\n",
        "  mean_vec1 = mean_vec_1.mean(axis=0)\n",
        "  vecs1.append(mean_vec1)"
      ],
      "execution_count": 29,
      "outputs": [
        {
          "output_type": "stream",
          "text": [
            "100%|██████████| 501/501 [00:04<00:00, 122.66it/s]\n"
          ],
          "name": "stderr"
        }
      ]
    },
    {
      "cell_type": "code",
      "metadata": {
        "id": "Dvpiz0NwDCOA",
        "colab_type": "code",
        "outputId": "4dd2c09f-52af-4f82-eb54-e3ad4911db40",
        "colab": {
          "base_uri": "https://localhost:8080/",
          "height": 34
        }
      },
      "source": [
        "from tqdm import tqdm\n",
        "import en_core_web_sm\n",
        "nlp = en_core_web_sm.load()\n",
        "vecs2 = []\n",
        "# https://github.com/noamraph/tqdm\n",
        "# tqdm is used to print the progress bar\n",
        "for qu1 in tqdm(list(quest['question2'])):\n",
        "  doc1 = nlp(qu1)\n",
        "  # 96 is the number of dimensions of vectors\n",
        "  mean_vec1 = np.zeros([len(doc1), 96])\n",
        "  for word1 in doc1:\n",
        "    # word2vec\n",
        "    vec1 = word1.vector\n",
        "    # fetch df score\n",
        "    try:\n",
        "      idf = word2tfidf[str(word1)]\n",
        "    except:\n",
        "      idf = 0\n",
        "    # compute final vec\n",
        "    mean_vec1 += np.dot(vec1, idf)\n",
        "  mean_vec1 = mean_vec1.mean(axis=0)\n",
        "  vecs2.append(mean_vec1)"
      ],
      "execution_count": 30,
      "outputs": [
        {
          "output_type": "stream",
          "text": [
            "100%|██████████| 501/501 [00:04<00:00, 122.79it/s]\n"
          ],
          "name": "stderr"
        }
      ]
    },
    {
      "cell_type": "code",
      "metadata": {
        "id": "18J2bXMTMr_-",
        "colab_type": "code",
        "colab": {}
      },
      "source": [
        "#quest.drop(columns=['q2_feats_m','q1_feats_m'],inplace=True)\n",
        "quest.drop(columns = ['common_token_count_max'],inplace=True)"
      ],
      "execution_count": 0,
      "outputs": []
    },
    {
      "cell_type": "code",
      "metadata": {
        "id": "Yi8rmmC3TZ-s",
        "colab_type": "code",
        "colab": {}
      },
      "source": [
        "#Adding vectorised data to columns\n",
        "for i in range(0,96):\n",
        "  vector = []\n",
        "  for j in range(len(quest)):\n",
        "    vector.append(vecs1[j][i])\n",
        "  quest[\"q1_{}\".format(i)] = vector\n",
        "\n",
        "  for i in range(0,96):\n",
        "    vector = []\n",
        "  for j in range(len(quest)):\n",
        "    vector.append(vecs2[j][i])\n",
        "  quest[\"q2_{}\".format(i)] = vector"
      ],
      "execution_count": 0,
      "outputs": []
    },
    {
      "cell_type": "code",
      "metadata": {
        "id": "nHuhzxQ1TaM4",
        "colab_type": "code",
        "colab": {}
      },
      "source": [
        "# remove the first row \n",
        "quest.drop(quest.index[0], inplace=True)\n",
        "y_true = quest['is_duplicate']\n",
        "quest.drop(['level_0','index','qid1','qid2','is_duplicate','question1','question2'], axis=1, inplace=True)"
      ],
      "execution_count": 0,
      "outputs": []
    },
    {
      "cell_type": "code",
      "metadata": {
        "id": "C5CbIoFsTaTi",
        "colab_type": "code",
        "colab": {}
      },
      "source": [
        "X_train,X_test, y_train, y_test = train_test_split(quest, y_true, stratify=y_true, test_size=0.3)"
      ],
      "execution_count": 0,
      "outputs": []
    },
    {
      "cell_type": "code",
      "metadata": {
        "id": "gy749nH9TaX_",
        "colab_type": "code",
        "colab": {
          "base_uri": "https://localhost:8080/",
          "height": 34
        },
        "outputId": "0d52f1a7-257c-4482-b5c8-80ded284585e"
      },
      "source": [
        "train_len = len(y_train)\n",
        "test_len = len(y_test)\n",
        "predicted_y = np.zeros((test_len,2))\n",
        "for i in range(test_len):\n",
        "    rand_probs = np.random.rand(1,2)\n",
        "    predicted_y[i] = ((rand_probs/sum(sum(rand_probs)))[0])\n",
        "print(\"Log loss on Test quest using Random Model\",log_loss(y_test, predicted_y, eps=1e-15))\n",
        "\n",
        "predicted_y =np.argmax(predicted_y, axis=1)"
      ],
      "execution_count": 87,
      "outputs": [
        {
          "output_type": "stream",
          "text": [
            "Log loss on Test quest using Random Model 0.9443806950053355\n"
          ],
          "name": "stdout"
        }
      ]
    },
    {
      "cell_type": "code",
      "metadata": {
        "id": "fJgVUtHzTaQY",
        "colab_type": "code",
        "colab": {
          "base_uri": "https://localhost:8080/",
          "height": 527
        },
        "outputId": "c239767a-c555-4c7a-bde3-cfdf84673c86"
      },
      "source": [
        "import xgboost as xgb\n",
        "params = {}\n",
        "params['objective'] = 'binary:logistic'\n",
        "params['eval_metric'] = 'logloss'\n",
        "params['eta'] = 0.02\n",
        "params['max_depth'] = 4\n",
        "\n",
        "d_train = xgb.DMatrix(X_train, label=y_train)\n",
        "d_test = xgb.DMatrix(X_test, label=y_test)\n",
        "\n",
        "watchlist = [(d_train, 'train'), (d_test, 'valid')]\n",
        "\n",
        "bst = xgb.train(params, d_train, 400, watchlist, early_stopping_rounds=20, verbose_eval=10)\n",
        "\n",
        "xgdmat = xgb.DMatrix(X_train,y_train)\n",
        "predict_y = bst.predict(d_test)\n",
        "print(\"The test log loss is:\",log_loss(y_test, predict_y, eps=1e-15))"
      ],
      "execution_count": 96,
      "outputs": [
        {
          "output_type": "stream",
          "text": [
            "Log loss on Test quest using Random Model 0.9216813950459387\n",
            "[0]\ttrain-logloss:0.682811\tvalid-logloss:0.687195\n",
            "Multiple eval metrics have been passed: 'valid-logloss' will be used for early stopping.\n",
            "\n",
            "Will train until valid-logloss hasn't improved in 20 rounds.\n",
            "[10]\ttrain-logloss:0.596409\tvalid-logloss:0.644145\n",
            "[20]\ttrain-logloss:0.532019\tvalid-logloss:0.613563\n",
            "[30]\ttrain-logloss:0.479392\tvalid-logloss:0.585528\n",
            "[40]\ttrain-logloss:0.430803\tvalid-logloss:0.568593\n",
            "[50]\ttrain-logloss:0.391399\tvalid-logloss:0.556939\n",
            "[60]\ttrain-logloss:0.358049\tvalid-logloss:0.548677\n",
            "[70]\ttrain-logloss:0.329658\tvalid-logloss:0.542028\n",
            "[80]\ttrain-logloss:0.302776\tvalid-logloss:0.538259\n",
            "[90]\ttrain-logloss:0.281507\tvalid-logloss:0.536853\n",
            "[100]\ttrain-logloss:0.262522\tvalid-logloss:0.532896\n",
            "[110]\ttrain-logloss:0.244693\tvalid-logloss:0.529873\n",
            "[120]\ttrain-logloss:0.228006\tvalid-logloss:0.527754\n",
            "[130]\ttrain-logloss:0.213805\tvalid-logloss:0.525736\n",
            "[140]\ttrain-logloss:0.200169\tvalid-logloss:0.524868\n",
            "[150]\ttrain-logloss:0.187379\tvalid-logloss:0.523138\n",
            "[160]\ttrain-logloss:0.175494\tvalid-logloss:0.52145\n",
            "[170]\ttrain-logloss:0.164841\tvalid-logloss:0.520904\n",
            "[180]\ttrain-logloss:0.155239\tvalid-logloss:0.52102\n",
            "[190]\ttrain-logloss:0.146809\tvalid-logloss:0.519183\n",
            "[200]\ttrain-logloss:0.138009\tvalid-logloss:0.518803\n",
            "[210]\ttrain-logloss:0.13086\tvalid-logloss:0.519752\n",
            "Stopping. Best iteration:\n",
            "[192]\ttrain-logloss:0.144833\tvalid-logloss:0.518095\n",
            "\n",
            "The test log loss is: 0.5190805995588501\n"
          ],
          "name": "stdout"
        }
      ]
    },
    {
      "cell_type": "markdown",
      "metadata": {
        "id": "f8TzxH-DOhTn",
        "colab_type": "text"
      },
      "source": [
        "https://www.kaggle.com/c/quora-question-pairs <br>\n",
        "https://www.datacamp.com/community/tutorials/fuzzy-string-python <br>\n",
        "https://www.dropbox.com/sh/93968nfnrzh8bp5/AACZdtsApc1QSTQc7X0H3QZ5a?dl=0 <br>\n",
        "https://towardsdatascience.com/machine-learning-text-processing-1d5a2d638958 <br>\n",
        "https://medium.com/deepdatascience/feature-extraction-from-text-text-data-preprocessing-594b11af19f5 <br>\n",
        "https://www.kaggle.com/anokas/data-analysis-xgboost-starter-0-35460-lb<br>\n",
        "https://www.kaggle.com/shashanksai/text-preprocessing-using-python\n",
        "\n"
      ]
    }
  ]
}