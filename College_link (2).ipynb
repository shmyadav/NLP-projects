{
  "nbformat": 4,
  "nbformat_minor": 0,
  "metadata": {
    "colab": {
      "name": "College_link.ipynb",
      "provenance": [],
      "collapsed_sections": []
    },
    "kernelspec": {
      "name": "python3",
      "display_name": "Python 3"
    }
  },
  "cells": [
    {
      "cell_type": "code",
      "metadata": {
        "id": "LA-_PsDE_WiM",
        "colab_type": "code",
        "colab": {}
      },
      "source": [
        "import pandas as pd\n",
        "from google.colab import files\n",
        "files.upload()"
      ],
      "execution_count": null,
      "outputs": []
    },
    {
      "cell_type": "code",
      "metadata": {
        "id": "9Ae09XaKgxbJ",
        "colab_type": "code",
        "colab": {}
      },
      "source": [
        "c_g = pd.read_excel('course grouping data with time on page (1).xlsx')"
      ],
      "execution_count": null,
      "outputs": []
    },
    {
      "cell_type": "code",
      "metadata": {
        "id": "pl44AQMJXc6H",
        "colab_type": "code",
        "colab": {}
      },
      "source": [
        "c_g.drop(index = 4103, inplace= True)"
      ],
      "execution_count": null,
      "outputs": []
    },
    {
      "cell_type": "code",
      "metadata": {
        "id": "vAFIyIy4Bulz",
        "colab_type": "code",
        "colab": {
          "base_uri": "https://localhost:8080/",
          "height": 406
        },
        "outputId": "333fab0c-be38-4397-fb88-7facd39af4c2"
      },
      "source": [
        "c_g"
      ],
      "execution_count": null,
      "outputs": [
        {
          "output_type": "execute_result",
          "data": {
            "text/html": [
              "<div>\n",
              "<style scoped>\n",
              "    .dataframe tbody tr th:only-of-type {\n",
              "        vertical-align: middle;\n",
              "    }\n",
              "\n",
              "    .dataframe tbody tr th {\n",
              "        vertical-align: top;\n",
              "    }\n",
              "\n",
              "    .dataframe thead th {\n",
              "        text-align: right;\n",
              "    }\n",
              "</style>\n",
              "<table border=\"1\" class=\"dataframe\">\n",
              "  <thead>\n",
              "    <tr style=\"text-align: right;\">\n",
              "      <th></th>\n",
              "      <th>Page</th>\n",
              "      <th>ID</th>\n",
              "      <th>Pageviews</th>\n",
              "      <th>Unique Pageviews</th>\n",
              "      <th>Avg. Time on Page</th>\n",
              "      <th>Entrances</th>\n",
              "      <th>Bounce Rate</th>\n",
              "      <th>% Exit</th>\n",
              "      <th>Page Value</th>\n",
              "    </tr>\n",
              "  </thead>\n",
              "  <tbody>\n",
              "    <tr>\n",
              "      <th>0</th>\n",
              "      <td>www.buckingham.ac.uk/medicine/bsc/podiatric-me...</td>\n",
              "      <td>1.530010e+09</td>\n",
              "      <td>16</td>\n",
              "      <td>3</td>\n",
              "      <td>691.000000</td>\n",
              "      <td>0</td>\n",
              "      <td>0</td>\n",
              "      <td>0.0</td>\n",
              "      <td>1.666667</td>\n",
              "    </tr>\n",
              "    <tr>\n",
              "      <th>1</th>\n",
              "      <td>www.buckingham.ac.uk/sciences/bsc/computing-bu...</td>\n",
              "      <td>1.520504e+09</td>\n",
              "      <td>15</td>\n",
              "      <td>1</td>\n",
              "      <td>548.266667</td>\n",
              "      <td>0</td>\n",
              "      <td>0</td>\n",
              "      <td>0.0</td>\n",
              "      <td>0.000000</td>\n",
              "    </tr>\n",
              "    <tr>\n",
              "      <th>2</th>\n",
              "      <td>www.buckingham.ac.uk/business/mba/businessadmi...</td>\n",
              "      <td>1.575717e+09</td>\n",
              "      <td>14</td>\n",
              "      <td>4</td>\n",
              "      <td>16.285714</td>\n",
              "      <td>0</td>\n",
              "      <td>0</td>\n",
              "      <td>0.0</td>\n",
              "      <td>225.000000</td>\n",
              "    </tr>\n",
              "    <tr>\n",
              "      <th>3</th>\n",
              "      <td>www.buckingham.ac.uk/law/llb/law?cc=ULBF2SLA&amp;t...</td>\n",
              "      <td>1.576127e+09</td>\n",
              "      <td>12</td>\n",
              "      <td>4</td>\n",
              "      <td>237.916667</td>\n",
              "      <td>1</td>\n",
              "      <td>0</td>\n",
              "      <td>0.0</td>\n",
              "      <td>0.000000</td>\n",
              "    </tr>\n",
              "    <tr>\n",
              "      <th>4</th>\n",
              "      <td>www.buckingham.ac.uk/business/bsc/businessandm...</td>\n",
              "      <td>1.576149e+09</td>\n",
              "      <td>11</td>\n",
              "      <td>1</td>\n",
              "      <td>789.363636</td>\n",
              "      <td>0</td>\n",
              "      <td>0</td>\n",
              "      <td>0.0</td>\n",
              "      <td>0.000000</td>\n",
              "    </tr>\n",
              "    <tr>\n",
              "      <th>...</th>\n",
              "      <td>...</td>\n",
              "      <td>...</td>\n",
              "      <td>...</td>\n",
              "      <td>...</td>\n",
              "      <td>...</td>\n",
              "      <td>...</td>\n",
              "      <td>...</td>\n",
              "      <td>...</td>\n",
              "      <td>...</td>\n",
              "    </tr>\n",
              "    <tr>\n",
              "      <th>4098</th>\n",
              "      <td>www.buckingham.ac.uk/sciences/pgdiploma/applie...</td>\n",
              "      <td>1.576420e+09</td>\n",
              "      <td>1</td>\n",
              "      <td>1</td>\n",
              "      <td>159.000000</td>\n",
              "      <td>0</td>\n",
              "      <td>0</td>\n",
              "      <td>0.0</td>\n",
              "      <td>0.000000</td>\n",
              "    </tr>\n",
              "    <tr>\n",
              "      <th>4099</th>\n",
              "      <td>www.buckingham.ac.uk/sciences/pgdiploma/applie...</td>\n",
              "      <td>1.576249e+09</td>\n",
              "      <td>1</td>\n",
              "      <td>1</td>\n",
              "      <td>116.000000</td>\n",
              "      <td>0</td>\n",
              "      <td>0</td>\n",
              "      <td>0.0</td>\n",
              "      <td>0.000000</td>\n",
              "    </tr>\n",
              "    <tr>\n",
              "      <th>4100</th>\n",
              "      <td>www.buckingham.ac.uk/sciences/pgdiploma/applie...</td>\n",
              "      <td>1.576297e+09</td>\n",
              "      <td>1</td>\n",
              "      <td>1</td>\n",
              "      <td>19.000000</td>\n",
              "      <td>0</td>\n",
              "      <td>0</td>\n",
              "      <td>0.0</td>\n",
              "      <td>0.000000</td>\n",
              "    </tr>\n",
              "    <tr>\n",
              "      <th>4101</th>\n",
              "      <td>www.buckingham.ac.uk/sciences/pgdiploma/applie...</td>\n",
              "      <td>1.576145e+09</td>\n",
              "      <td>1</td>\n",
              "      <td>1</td>\n",
              "      <td>53.000000</td>\n",
              "      <td>0</td>\n",
              "      <td>0</td>\n",
              "      <td>0.0</td>\n",
              "      <td>0.000000</td>\n",
              "    </tr>\n",
              "    <tr>\n",
              "      <th>4102</th>\n",
              "      <td>www.buckingham.ac.uk/sciences/pgdiploma/applie...</td>\n",
              "      <td>1.570723e+09</td>\n",
              "      <td>1</td>\n",
              "      <td>1</td>\n",
              "      <td>27.000000</td>\n",
              "      <td>0</td>\n",
              "      <td>0</td>\n",
              "      <td>0.0</td>\n",
              "      <td>0.000000</td>\n",
              "    </tr>\n",
              "  </tbody>\n",
              "</table>\n",
              "<p>4103 rows × 9 columns</p>\n",
              "</div>"
            ],
            "text/plain": [
              "                                                   Page  ...  Page Value\n",
              "0     www.buckingham.ac.uk/medicine/bsc/podiatric-me...  ...    1.666667\n",
              "1     www.buckingham.ac.uk/sciences/bsc/computing-bu...  ...    0.000000\n",
              "2     www.buckingham.ac.uk/business/mba/businessadmi...  ...  225.000000\n",
              "3     www.buckingham.ac.uk/law/llb/law?cc=ULBF2SLA&t...  ...    0.000000\n",
              "4     www.buckingham.ac.uk/business/bsc/businessandm...  ...    0.000000\n",
              "...                                                 ...  ...         ...\n",
              "4098  www.buckingham.ac.uk/sciences/pgdiploma/applie...  ...    0.000000\n",
              "4099  www.buckingham.ac.uk/sciences/pgdiploma/applie...  ...    0.000000\n",
              "4100  www.buckingham.ac.uk/sciences/pgdiploma/applie...  ...    0.000000\n",
              "4101  www.buckingham.ac.uk/sciences/pgdiploma/applie...  ...    0.000000\n",
              "4102  www.buckingham.ac.uk/sciences/pgdiploma/applie...  ...    0.000000\n",
              "\n",
              "[4103 rows x 9 columns]"
            ]
          },
          "metadata": {
            "tags": []
          },
          "execution_count": 16
        }
      ]
    },
    {
      "cell_type": "code",
      "metadata": {
        "id": "8Tsd5qoxBBmY",
        "colab_type": "code",
        "colab": {}
      },
      "source": [
        "splitted = c_g.Page.str.split(\"/\",expand= True)"
      ],
      "execution_count": null,
      "outputs": []
    },
    {
      "cell_type": "code",
      "metadata": {
        "id": "X5EEFsCVEPdC",
        "colab_type": "code",
        "colab": {
          "base_uri": "https://localhost:8080/",
          "height": 406
        },
        "outputId": "632f526a-e2a0-4c79-a4b1-524b63e12cff"
      },
      "source": [
        "#renaming\n",
        "splitted.rename(columns=  {0:\"Site\",1:\"field\",2:\"departmnet\",3:\"subject\"},inplace= True)\n",
        "splitted"
      ],
      "execution_count": null,
      "outputs": [
        {
          "output_type": "execute_result",
          "data": {
            "text/html": [
              "<div>\n",
              "<style scoped>\n",
              "    .dataframe tbody tr th:only-of-type {\n",
              "        vertical-align: middle;\n",
              "    }\n",
              "\n",
              "    .dataframe tbody tr th {\n",
              "        vertical-align: top;\n",
              "    }\n",
              "\n",
              "    .dataframe thead th {\n",
              "        text-align: right;\n",
              "    }\n",
              "</style>\n",
              "<table border=\"1\" class=\"dataframe\">\n",
              "  <thead>\n",
              "    <tr style=\"text-align: right;\">\n",
              "      <th></th>\n",
              "      <th>Site</th>\n",
              "      <th>field</th>\n",
              "      <th>departmnet</th>\n",
              "      <th>subject</th>\n",
              "      <th>4</th>\n",
              "      <th>5</th>\n",
              "    </tr>\n",
              "  </thead>\n",
              "  <tbody>\n",
              "    <tr>\n",
              "      <th>0</th>\n",
              "      <td>www.buckingham.ac.uk</td>\n",
              "      <td>medicine</td>\n",
              "      <td>bsc</td>\n",
              "      <td>podiatric-medicine</td>\n",
              "      <td></td>\n",
              "      <td>None</td>\n",
              "    </tr>\n",
              "    <tr>\n",
              "      <th>1</th>\n",
              "      <td>www.buckingham.ac.uk</td>\n",
              "      <td>sciences</td>\n",
              "      <td>bsc</td>\n",
              "      <td>computing-business?cc=UBSF2MCOBT&amp;titl=BSc Comp...</td>\n",
              "      <td>None</td>\n",
              "      <td>None</td>\n",
              "    </tr>\n",
              "    <tr>\n",
              "      <th>2</th>\n",
              "      <td>www.buckingham.ac.uk</td>\n",
              "      <td>business</td>\n",
              "      <td>mba</td>\n",
              "      <td>businessadministration?cc=PMBF1PBA&amp;titl=Master...</td>\n",
              "      <td>None</td>\n",
              "      <td>None</td>\n",
              "    </tr>\n",
              "    <tr>\n",
              "      <th>3</th>\n",
              "      <td>www.buckingham.ac.uk</td>\n",
              "      <td>law</td>\n",
              "      <td>llb</td>\n",
              "      <td>law?cc=ULBF2SLA&amp;titl=LLB Law (2-year degree)</td>\n",
              "      <td>None</td>\n",
              "      <td>None</td>\n",
              "    </tr>\n",
              "    <tr>\n",
              "      <th>4</th>\n",
              "      <td>www.buckingham.ac.uk</td>\n",
              "      <td>business</td>\n",
              "      <td>bsc</td>\n",
              "      <td>businessandmanagement-3?cc=UBSF0SBT&amp;titl=BSc B...</td>\n",
              "      <td>None</td>\n",
              "      <td>None</td>\n",
              "    </tr>\n",
              "    <tr>\n",
              "      <th>...</th>\n",
              "      <td>...</td>\n",
              "      <td>...</td>\n",
              "      <td>...</td>\n",
              "      <td>...</td>\n",
              "      <td>...</td>\n",
              "      <td>...</td>\n",
              "    </tr>\n",
              "    <tr>\n",
              "      <th>4098</th>\n",
              "      <td>www.buckingham.ac.uk</td>\n",
              "      <td>sciences</td>\n",
              "      <td>pgdiploma</td>\n",
              "      <td>appliedcomputing?cc=PDIF1PCO&amp;titl=Graduate Dip...</td>\n",
              "      <td>None</td>\n",
              "      <td>None</td>\n",
              "    </tr>\n",
              "    <tr>\n",
              "      <th>4099</th>\n",
              "      <td>www.buckingham.ac.uk</td>\n",
              "      <td>sciences</td>\n",
              "      <td>pgdiploma</td>\n",
              "      <td>appliedcomputing?cc=PDIF1PCO&amp;titl=Graduate Dip...</td>\n",
              "      <td>None</td>\n",
              "      <td>None</td>\n",
              "    </tr>\n",
              "    <tr>\n",
              "      <th>4100</th>\n",
              "      <td>www.buckingham.ac.uk</td>\n",
              "      <td>sciences</td>\n",
              "      <td>pgdiploma</td>\n",
              "      <td>appliedcomputing?cc=PDIF1PCO&amp;titl=Graduate Dip...</td>\n",
              "      <td>None</td>\n",
              "      <td>None</td>\n",
              "    </tr>\n",
              "    <tr>\n",
              "      <th>4101</th>\n",
              "      <td>www.buckingham.ac.uk</td>\n",
              "      <td>sciences</td>\n",
              "      <td>pgdiploma</td>\n",
              "      <td>appliedcomputing?cc=PDIF1PCO&amp;titl=Graduate Dip...</td>\n",
              "      <td>None</td>\n",
              "      <td>None</td>\n",
              "    </tr>\n",
              "    <tr>\n",
              "      <th>4102</th>\n",
              "      <td>www.buckingham.ac.uk</td>\n",
              "      <td>sciences</td>\n",
              "      <td>pgdiploma</td>\n",
              "      <td>appliedcomputing?cc=PDIF1PCO&amp;titl=Graduate Dip...</td>\n",
              "      <td>None</td>\n",
              "      <td>None</td>\n",
              "    </tr>\n",
              "  </tbody>\n",
              "</table>\n",
              "<p>4103 rows × 6 columns</p>\n",
              "</div>"
            ],
            "text/plain": [
              "                      Site     field  ...     4     5\n",
              "0     www.buckingham.ac.uk  medicine  ...        None\n",
              "1     www.buckingham.ac.uk  sciences  ...  None  None\n",
              "2     www.buckingham.ac.uk  business  ...  None  None\n",
              "3     www.buckingham.ac.uk       law  ...  None  None\n",
              "4     www.buckingham.ac.uk  business  ...  None  None\n",
              "...                    ...       ...  ...   ...   ...\n",
              "4098  www.buckingham.ac.uk  sciences  ...  None  None\n",
              "4099  www.buckingham.ac.uk  sciences  ...  None  None\n",
              "4100  www.buckingham.ac.uk  sciences  ...  None  None\n",
              "4101  www.buckingham.ac.uk  sciences  ...  None  None\n",
              "4102  www.buckingham.ac.uk  sciences  ...  None  None\n",
              "\n",
              "[4103 rows x 6 columns]"
            ]
          },
          "metadata": {
            "tags": []
          },
          "execution_count": 18
        }
      ]
    },
    {
      "cell_type": "code",
      "metadata": {
        "id": "DRBuHCZiLfpA",
        "colab_type": "code",
        "colab": {}
      },
      "source": [
        "#replacing special charachters in field by \" \"\n",
        "splitted.field = splitted.field.replace(r'[<%?=+-]', ' ', regex=True)"
      ],
      "execution_count": null,
      "outputs": []
    },
    {
      "cell_type": "code",
      "metadata": {
        "id": "039HPaHlP74L",
        "colab_type": "code",
        "colab": {
          "base_uri": "https://localhost:8080/",
          "height": 923
        },
        "outputId": "201b607f-15ef-4edf-8897-90f99f5f43f0"
      },
      "source": [
        "splitted.field.value_counts().nsmallest(50)"
      ],
      "execution_count": null,
      "outputs": [
        {
          "output_type": "execute_result",
          "data": {
            "text/plain": [
              " s research proposal                                            1\n",
              " s health psychology                                            1\n",
              " s innovative computing                                         1\n",
              " s Heffer                                                       1\n",
              " s masters education                                            1\n",
              " s PRE SESSIONAL                                                1\n",
              " s 2 year                                                       1\n",
              " s international relations flexible                             1\n",
              " s Online course                                                1\n",
              " s environment                                                  1\n",
              " s money banking and central banking                            1\n",
              " s Llm                                                          1\n",
              " s 2 year degree                                                1\n",
              " s political sciences                                           1\n",
              " s open week                                                    1\n",
              " s MA Education                                                 1\n",
              " s procurement                                                  1\n",
              " s m.med                                                        1\n",
              " s online courses                                               1\n",
              " s MA in education                                              1\n",
              " s Primary education                                            1\n",
              " s sports                                                       1\n",
              " s pre med                                                      1\n",
              " s katie jones                                                  1\n",
              " s crewe                                                        1\n",
              " s premed                                                       1\n",
              " s BSc Business and Management (with integrated Foundation)     1\n",
              " s Crewe                                                        1\n",
              " s Doctor of Education                                          1\n",
              " s pre sessional                                                1\n",
              " s architecture                                                 1\n",
              " s assessment only route to QTS                                 1\n",
              " s MSC Marketing                                                1\n",
              " s Prior accredited learning                                    1\n",
              " s governance                                                   1\n",
              " s Msc health psychology                                        1\n",
              " s medical sciences                                             1\n",
              " s Katie Jones                                                  1\n",
              " s relationship                                                 1\n",
              " s business enterprise                                          1\n",
              " s virtual learning environment                                 1\n",
              " s online course                                                1\n",
              " s flexible combined honours                                    1\n",
              " s residential education                                        1\n",
              " s Criminology                                                  1\n",
              " s llb law with business management                             1\n",
              " s Geography                                                    1\n",
              " s independant pgce                                             1\n",
              " s masters in medicine                                          1\n",
              " s PGCE                                                         1\n",
              "Name: field, dtype: int64"
            ]
          },
          "metadata": {
            "tags": []
          },
          "execution_count": 20
        }
      ]
    },
    {
      "cell_type": "code",
      "metadata": {
        "id": "zJh0wBihP-EO",
        "colab_type": "code",
        "colab": {}
      },
      "source": [
        "#further cleaning\n",
        "splitted.field = splitted.field.replace(r's ','', regex=True)"
      ],
      "execution_count": null,
      "outputs": []
    },
    {
      "cell_type": "code",
      "metadata": {
        "id": "e430-d5tQyov",
        "colab_type": "code",
        "colab": {
          "base_uri": "https://localhost:8080/",
          "height": 230
        },
        "outputId": "22bc8478-65c4-4ced-ef92-3e94b0000a74"
      },
      "source": [
        "splitted.field = splitted.field.str.strip()\n",
        "#stripping of whitespaces from right and left end\n",
        "splitted.field.value_counts()"
      ],
      "execution_count": null,
      "outputs": [
        {
          "output_type": "execute_result",
          "data": {
            "text/plain": [
              "humanities                                                940\n",
              "business                                                  687\n",
              "sciences                                                  603\n",
              "education                                                 447\n",
              "medicine                                                  398\n",
              "                                                         ... \n",
              "BSc Businesand Management (with integrated Foundation)      1\n",
              "masterin medicine                                           1\n",
              "Prior accredited learning                                   1\n",
              "medical sciences                                            1\n",
              "2 year                                                      1\n",
              "Name: field, Length: 97, dtype: int64"
            ]
          },
          "metadata": {
            "tags": []
          },
          "execution_count": 22
        }
      ]
    },
    {
      "cell_type": "code",
      "metadata": {
        "id": "XW5_d1gDqRVV",
        "colab_type": "code",
        "colab": {
          "base_uri": "https://localhost:8080/",
          "height": 212
        },
        "outputId": "38919a0e-db49-4531-93e9-299b7f7e40ef"
      },
      "source": [
        "splitted.info()"
      ],
      "execution_count": null,
      "outputs": [
        {
          "output_type": "stream",
          "text": [
            "<class 'pandas.core.frame.DataFrame'>\n",
            "Int64Index: 4103 entries, 0 to 4102\n",
            "Data columns (total 6 columns):\n",
            "Site          4103 non-null object\n",
            "field         4103 non-null object\n",
            "departmnet    4001 non-null object\n",
            "subject       3821 non-null object\n",
            "4             841 non-null object\n",
            "5             10 non-null object\n",
            "dtypes: object(6)\n",
            "memory usage: 224.4+ KB\n"
          ],
          "name": "stdout"
        }
      ]
    },
    {
      "cell_type": "code",
      "metadata": {
        "id": "zpK5V3zKRy2N",
        "colab_type": "code",
        "colab": {
          "base_uri": "https://localhost:8080/",
          "height": 763
        },
        "outputId": "d7ee11fa-9c10-43f3-8b30-f411ab41cffb"
      },
      "source": [
        "#checking department\n",
        "splitted.departmnet.value_counts().nsmallest(60)"
      ],
      "execution_count": null,
      "outputs": [
        {
          "output_type": "execute_result",
          "data": {
            "text/plain": [
              "modern-languages-with-history-of-art                                                             2\n",
              "nasenco?cc=PCTP1PSC&titl=The National Award for SEN Coordination (NASENCO)                       3\n",
              "ifp                                                                                              3\n",
              "mres                                                                                             4\n",
              "ta-to-teacher                                                                                    4\n",
              "modern-languages-with-journalism                                                                 4\n",
              "nasenco                                                                                          4\n",
              "pre-sessional-english?cc=FCTF2FEF&titl=Pre-sessional English Language Foundation Programmes      6\n",
              "modern-languages-with-politics                                                                   8\n",
              "ifp?cc=FCTF3FIP&titl=International Foundation Programme                                          9\n",
              "foundation                                                                                       9\n",
              "part-time-master-of-business-administration-mba-milton-keynes                                   10\n",
              "pre-sessional-english                                                                           11\n",
              "ed-d                                                                                            13\n",
              "expertise                                                                                       15\n",
              "preparatory-pgce-with-qualified-teacher-status                                                  17\n",
              "modern-languages-with-business-and-management                                                   17\n",
              "education                                                                                       18\n",
              "phd                                                                                             21\n",
              "mmed                                                                                            22\n",
              "pgc                                                                                             22\n",
              "msurg                                                                                           33\n",
              "pgdiploma                                                                                       33\n",
              "msurg?cc=PMGF2PSG&titl=Master of Surgery (MSurg)                                                34\n",
              "postgraduate-certificate-in-medical-education                                                   35\n",
              "mmed?cc=PMMF2PMD&titl=Master of Medicine (MMed)                                                 44\n",
              "med                                                                                             47\n",
              "foundation-pathway                                                                              54\n",
              "llm                                                                                             56\n",
              "foundation-certificate                                                                          56\n",
              "certhe                                                                                          88\n",
              "mba                                                                                            111\n",
              "bscecon                                                                                        121\n",
              "mphil                                                                                          130\n",
              "llb                                                                                            237\n",
              "pgce                                                                                           283\n",
              "ma                                                                                             314\n",
              "undergrad                                                                                      361\n",
              "ba                                                                                             416\n",
              "msc                                                                                            422\n",
              "bsc                                                                                            904\n",
              "Name: departmnet, dtype: int64"
            ]
          },
          "metadata": {
            "tags": []
          },
          "execution_count": 24
        }
      ]
    },
    {
      "cell_type": "code",
      "metadata": {
        "id": "lMqtCGldZGzc",
        "colab_type": "code",
        "colab": {
          "base_uri": "https://localhost:8080/",
          "height": 406
        },
        "outputId": "f0e2a856-451c-4421-c1cf-33b452626b8b"
      },
      "source": [
        "a = splitted.departmnet.str.split(\"=\",expand= True)\n",
        "a"
      ],
      "execution_count": null,
      "outputs": [
        {
          "output_type": "execute_result",
          "data": {
            "text/html": [
              "<div>\n",
              "<style scoped>\n",
              "    .dataframe tbody tr th:only-of-type {\n",
              "        vertical-align: middle;\n",
              "    }\n",
              "\n",
              "    .dataframe tbody tr th {\n",
              "        vertical-align: top;\n",
              "    }\n",
              "\n",
              "    .dataframe thead th {\n",
              "        text-align: right;\n",
              "    }\n",
              "</style>\n",
              "<table border=\"1\" class=\"dataframe\">\n",
              "  <thead>\n",
              "    <tr style=\"text-align: right;\">\n",
              "      <th></th>\n",
              "      <th>0</th>\n",
              "      <th>1</th>\n",
              "      <th>2</th>\n",
              "    </tr>\n",
              "  </thead>\n",
              "  <tbody>\n",
              "    <tr>\n",
              "      <th>0</th>\n",
              "      <td>bsc</td>\n",
              "      <td>None</td>\n",
              "      <td>None</td>\n",
              "    </tr>\n",
              "    <tr>\n",
              "      <th>1</th>\n",
              "      <td>bsc</td>\n",
              "      <td>None</td>\n",
              "      <td>None</td>\n",
              "    </tr>\n",
              "    <tr>\n",
              "      <th>2</th>\n",
              "      <td>mba</td>\n",
              "      <td>None</td>\n",
              "      <td>None</td>\n",
              "    </tr>\n",
              "    <tr>\n",
              "      <th>3</th>\n",
              "      <td>llb</td>\n",
              "      <td>None</td>\n",
              "      <td>None</td>\n",
              "    </tr>\n",
              "    <tr>\n",
              "      <th>4</th>\n",
              "      <td>bsc</td>\n",
              "      <td>None</td>\n",
              "      <td>None</td>\n",
              "    </tr>\n",
              "    <tr>\n",
              "      <th>...</th>\n",
              "      <td>...</td>\n",
              "      <td>...</td>\n",
              "      <td>...</td>\n",
              "    </tr>\n",
              "    <tr>\n",
              "      <th>4098</th>\n",
              "      <td>pgdiploma</td>\n",
              "      <td>None</td>\n",
              "      <td>None</td>\n",
              "    </tr>\n",
              "    <tr>\n",
              "      <th>4099</th>\n",
              "      <td>pgdiploma</td>\n",
              "      <td>None</td>\n",
              "      <td>None</td>\n",
              "    </tr>\n",
              "    <tr>\n",
              "      <th>4100</th>\n",
              "      <td>pgdiploma</td>\n",
              "      <td>None</td>\n",
              "      <td>None</td>\n",
              "    </tr>\n",
              "    <tr>\n",
              "      <th>4101</th>\n",
              "      <td>pgdiploma</td>\n",
              "      <td>None</td>\n",
              "      <td>None</td>\n",
              "    </tr>\n",
              "    <tr>\n",
              "      <th>4102</th>\n",
              "      <td>pgdiploma</td>\n",
              "      <td>None</td>\n",
              "      <td>None</td>\n",
              "    </tr>\n",
              "  </tbody>\n",
              "</table>\n",
              "<p>4103 rows × 3 columns</p>\n",
              "</div>"
            ],
            "text/plain": [
              "              0     1     2\n",
              "0           bsc  None  None\n",
              "1           bsc  None  None\n",
              "2           mba  None  None\n",
              "3           llb  None  None\n",
              "4           bsc  None  None\n",
              "...         ...   ...   ...\n",
              "4098  pgdiploma  None  None\n",
              "4099  pgdiploma  None  None\n",
              "4100  pgdiploma  None  None\n",
              "4101  pgdiploma  None  None\n",
              "4102  pgdiploma  None  None\n",
              "\n",
              "[4103 rows x 3 columns]"
            ]
          },
          "metadata": {
            "tags": []
          },
          "execution_count": 25
        }
      ]
    },
    {
      "cell_type": "code",
      "metadata": {
        "id": "laNl0ZtMrtYL",
        "colab_type": "code",
        "colab": {
          "base_uri": "https://localhost:8080/",
          "height": 123
        },
        "outputId": "8088a80d-96c6-4433-94d2-30e056964955"
      },
      "source": [
        "a[2].value_counts()"
      ],
      "execution_count": null,
      "outputs": [
        {
          "output_type": "execute_result",
          "data": {
            "text/plain": [
              "Master of Medicine (MMed)                               44\n",
              "Master of Surgery (MSurg)                               34\n",
              "International Foundation Programme                       9\n",
              "Pre-sessional English Language Foundation Programmes     6\n",
              "The National Award for SEN Coordination (NASENCO)        3\n",
              "Name: 2, dtype: int64"
            ]
          },
          "metadata": {
            "tags": []
          },
          "execution_count": 26
        }
      ]
    },
    {
      "cell_type": "code",
      "metadata": {
        "id": "Pi5Gouu4aXit",
        "colab_type": "code",
        "colab": {
          "base_uri": "https://localhost:8080/",
          "height": 123
        },
        "outputId": "3cda13ea-1735-4245-d18c-c8e9053096fc"
      },
      "source": [
        "# checking if 1 is gibberish if 2 isnt null\n",
        "a.loc[~a[2].isna()][1].value_counts()"
      ],
      "execution_count": null,
      "outputs": [
        {
          "output_type": "execute_result",
          "data": {
            "text/plain": [
              "PMMF2PMD&titl    44\n",
              "PMGF2PSG&titl    34\n",
              "FCTF3FIP&titl     9\n",
              "FCTF2FEF&titl     6\n",
              "PCTP1PSC&titl     3\n",
              "Name: 1, dtype: int64"
            ]
          },
          "metadata": {
            "tags": []
          },
          "execution_count": 27
        }
      ]
    },
    {
      "cell_type": "code",
      "metadata": {
        "id": "d-V_7k_rax7H",
        "colab_type": "code",
        "colab": {}
      },
      "source": [
        "#replacing gibberish with value in 2\n",
        "a_2n_null = list(a.loc[~a[2].isna()].index)\n",
        "a.loc[a_2n_null,1] = a.loc[a_2n_null,2]"
      ],
      "execution_count": null,
      "outputs": []
    },
    {
      "cell_type": "code",
      "metadata": {
        "id": "nji7BWRvbv4G",
        "colab_type": "code",
        "colab": {
          "base_uri": "https://localhost:8080/",
          "height": 167
        },
        "outputId": "6e8848f3-4e36-4f01-baa8-8fce2ced2dc2"
      },
      "source": [
        "a.loc[a_2null]"
      ],
      "execution_count": null,
      "outputs": [
        {
          "output_type": "error",
          "ename": "NameError",
          "evalue": "ignored",
          "traceback": [
            "\u001b[0;31m---------------------------------------------------------------------------\u001b[0m",
            "\u001b[0;31mNameError\u001b[0m                                 Traceback (most recent call last)",
            "\u001b[0;32m<ipython-input-29-6ebdfab39912>\u001b[0m in \u001b[0;36m<module>\u001b[0;34m()\u001b[0m\n\u001b[0;32m----> 1\u001b[0;31m \u001b[0ma\u001b[0m\u001b[0;34m.\u001b[0m\u001b[0mloc\u001b[0m\u001b[0;34m[\u001b[0m\u001b[0ma_2null\u001b[0m\u001b[0;34m]\u001b[0m\u001b[0;34m\u001b[0m\u001b[0;34m\u001b[0m\u001b[0m\n\u001b[0m",
            "\u001b[0;31mNameError\u001b[0m: name 'a_2null' is not defined"
          ]
        }
      ]
    },
    {
      "cell_type": "code",
      "metadata": {
        "id": "T-1xYLrTfDE_",
        "colab_type": "code",
        "colab": {}
      },
      "source": [
        "#index where a1 is null\n",
        "a_1n_null = list(a.loc[~a[1].isna()].index)"
      ],
      "execution_count": null,
      "outputs": []
    },
    {
      "cell_type": "code",
      "metadata": {
        "id": "WYrHzDsug9-6",
        "colab_type": "code",
        "colab": {}
      },
      "source": [
        "## checking if 0 is gibberish if 1 isnt null\n",
        "a.loc[a_1n_null][0].value_counts()"
      ],
      "execution_count": null,
      "outputs": []
    },
    {
      "cell_type": "code",
      "metadata": {
        "id": "pvytiBIkg_fI",
        "colab_type": "code",
        "colab": {}
      },
      "source": [
        "#replacing gibberish values in a[0] with a[1]\n",
        "a.loc[a_1n_null,0] = a.loc[a_1n_null,1]"
      ],
      "execution_count": null,
      "outputs": []
    },
    {
      "cell_type": "code",
      "metadata": {
        "id": "2PtsEanShTIn",
        "colab_type": "code",
        "colab": {}
      },
      "source": [
        "splitted.departmnet = a[0]"
      ],
      "execution_count": null,
      "outputs": []
    },
    {
      "cell_type": "code",
      "metadata": {
        "id": "5YxzLiqIhVBm",
        "colab_type": "code",
        "colab": {}
      },
      "source": [
        "#Dataframe till department columns are pre processed\n",
        "splitted.departmnet.value_counts()"
      ],
      "execution_count": null,
      "outputs": []
    },
    {
      "cell_type": "code",
      "metadata": {
        "id": "zaUME7PDh43o",
        "colab_type": "code",
        "colab": {}
      },
      "source": [
        "splitted.departmnet = splitted.departmnet.replace(r'-',' ', regex=True)"
      ],
      "execution_count": null,
      "outputs": []
    },
    {
      "cell_type": "code",
      "metadata": {
        "id": "dzp3EoQ2hFMu",
        "colab_type": "code",
        "colab": {}
      },
      "source": [
        "splitted.departmnet.value_counts()"
      ],
      "execution_count": null,
      "outputs": []
    },
    {
      "cell_type": "code",
      "metadata": {
        "id": "e0fcbcvnm8PC",
        "colab_type": "code",
        "colab": {}
      },
      "source": [
        "splitted.subject.value_counts().nlargest(20)"
      ],
      "execution_count": null,
      "outputs": []
    },
    {
      "cell_type": "code",
      "metadata": {
        "id": "mJ7ttvx0vmbI",
        "colab_type": "code",
        "colab": {
          "base_uri": "https://localhost:8080/",
          "height": 390
        },
        "outputId": "0c0d2b86-7f6b-4ee6-a7e3-0cf5264076ff"
      },
      "source": [
        "splitted.subject.value_counts().nsmallest(20)"
      ],
      "execution_count": null,
      "outputs": [
        {
          "output_type": "execute_result",
          "data": {
            "text/plain": [
              "computing-integrated?cc=UBSF0SCO&titl=BSc Computing (including integrated foundation year)                                  1\n",
              "computing-accountingandfinance-integrated                                                                                   1\n",
              "computing-business-integrated?cc=UBSF0MCOBT&titl=BSc Computing with Business and Management (with integrated Foundation)    1\n",
              "economics-journalism                                                                                                        1\n",
              "englishliterature-journalism-3year                                                                                          1\n",
              "internationalstudies-journalism?cc=UBAF2MINJN&titl=BA International Studies with Journalism (2-year degree)                 1\n",
              "psychology-englishliterature                                                                                                1\n",
              "englishliterature-french?cc=UBAF2MELFR&titl=BA English Literature with French (2-year degree)                               1\n",
              "computing-business?cc=UBSF2MCOBT&titl=BSc Computing with Business and Management (2-year degree)                            1\n",
              "economics-business-law                                                                                                      1\n",
              "economics-journalism?cc=UBEF2MECJN&titl=BSc Economics with Journalism (2-year degree)                                       1\n",
              "politics-history                                                                                                            1\n",
              "tudor-history?cc=RMAF1PTH&titl=MA Tudor History by Research                                                                 1\n",
              "journalism-french?cc=UBAF2MJNFR&titl=BA Journalism with French (2-year degree)                                              1\n",
              "computingresearch?cc=RMSF1PCO&titl=MSc                                                                                      1\n",
              "arthistory-transfer                                                                                                         1\n",
              "arthistory-history?cc=UBAF2MHAHS&titl=BA History of Art with History (2-year degree)                                        1\n",
              "journalism-intrelations?cc=UBAF2MJNIR&titl=BA Journalism with International Relations (2-year degree)                       1\n",
              "psychology-french?cc=UBSF2MPSFR&titl=BSc Psychology with French (2-year degree)                                             1\n",
              "history-of-art-london                                                                                                       1\n",
              "Name: subject, dtype: int64"
            ]
          },
          "metadata": {
            "tags": []
          },
          "execution_count": 30
        }
      ]
    },
    {
      "cell_type": "code",
      "metadata": {
        "id": "QwMuCeqiwU2x",
        "colab_type": "code",
        "colab": {
          "base_uri": "https://localhost:8080/",
          "height": 406
        },
        "outputId": "7096af0d-8592-4a49-d91d-6e4de42864b4"
      },
      "source": [
        "sub =  splitted.subject.str.split(\"=\",expand= True)\n",
        "sub"
      ],
      "execution_count": null,
      "outputs": [
        {
          "output_type": "execute_result",
          "data": {
            "text/html": [
              "<div>\n",
              "<style scoped>\n",
              "    .dataframe tbody tr th:only-of-type {\n",
              "        vertical-align: middle;\n",
              "    }\n",
              "\n",
              "    .dataframe tbody tr th {\n",
              "        vertical-align: top;\n",
              "    }\n",
              "\n",
              "    .dataframe thead th {\n",
              "        text-align: right;\n",
              "    }\n",
              "</style>\n",
              "<table border=\"1\" class=\"dataframe\">\n",
              "  <thead>\n",
              "    <tr style=\"text-align: right;\">\n",
              "      <th></th>\n",
              "      <th>0</th>\n",
              "      <th>1</th>\n",
              "      <th>2</th>\n",
              "      <th>3</th>\n",
              "    </tr>\n",
              "  </thead>\n",
              "  <tbody>\n",
              "    <tr>\n",
              "      <th>0</th>\n",
              "      <td>podiatric-medicine</td>\n",
              "      <td>None</td>\n",
              "      <td>None</td>\n",
              "      <td>None</td>\n",
              "    </tr>\n",
              "    <tr>\n",
              "      <th>1</th>\n",
              "      <td>computing-business?cc</td>\n",
              "      <td>UBSF2MCOBT&amp;titl</td>\n",
              "      <td>BSc Computing with Business Management (2-year...</td>\n",
              "      <td>None</td>\n",
              "    </tr>\n",
              "    <tr>\n",
              "      <th>2</th>\n",
              "      <td>businessadministration?cc</td>\n",
              "      <td>PMBF1PBA&amp;titl</td>\n",
              "      <td>Masters of Business Administration (MBA)</td>\n",
              "      <td>None</td>\n",
              "    </tr>\n",
              "    <tr>\n",
              "      <th>3</th>\n",
              "      <td>law?cc</td>\n",
              "      <td>ULBF2SLA&amp;titl</td>\n",
              "      <td>LLB Law (2-year degree)</td>\n",
              "      <td>None</td>\n",
              "    </tr>\n",
              "    <tr>\n",
              "      <th>4</th>\n",
              "      <td>businessandmanagement-3?cc</td>\n",
              "      <td>UBSF0SBT&amp;titl</td>\n",
              "      <td>BSc Business Management (with integrated Found...</td>\n",
              "      <td>None</td>\n",
              "    </tr>\n",
              "    <tr>\n",
              "      <th>...</th>\n",
              "      <td>...</td>\n",
              "      <td>...</td>\n",
              "      <td>...</td>\n",
              "      <td>...</td>\n",
              "    </tr>\n",
              "    <tr>\n",
              "      <th>4098</th>\n",
              "      <td>appliedcomputing?cc</td>\n",
              "      <td>PDIF1PCO&amp;titl</td>\n",
              "      <td>Graduate Diploma in Computing</td>\n",
              "      <td>None</td>\n",
              "    </tr>\n",
              "    <tr>\n",
              "      <th>4099</th>\n",
              "      <td>appliedcomputing?cc</td>\n",
              "      <td>PDIF1PCO&amp;titl</td>\n",
              "      <td>Graduate Diploma in Computing</td>\n",
              "      <td>None</td>\n",
              "    </tr>\n",
              "    <tr>\n",
              "      <th>4100</th>\n",
              "      <td>appliedcomputing?cc</td>\n",
              "      <td>PDIF1PCO&amp;titl</td>\n",
              "      <td>Graduate Diploma in Computing</td>\n",
              "      <td>None</td>\n",
              "    </tr>\n",
              "    <tr>\n",
              "      <th>4101</th>\n",
              "      <td>appliedcomputing?cc</td>\n",
              "      <td>PDIF1PCO&amp;titl</td>\n",
              "      <td>Graduate Diploma in Computing</td>\n",
              "      <td>None</td>\n",
              "    </tr>\n",
              "    <tr>\n",
              "      <th>4102</th>\n",
              "      <td>appliedcomputing?cc</td>\n",
              "      <td>PDIF1PCO&amp;titl</td>\n",
              "      <td>Graduate Diploma in Computing</td>\n",
              "      <td>None</td>\n",
              "    </tr>\n",
              "  </tbody>\n",
              "</table>\n",
              "<p>4103 rows × 4 columns</p>\n",
              "</div>"
            ],
            "text/plain": [
              "                               0  ...     3\n",
              "0             podiatric-medicine  ...  None\n",
              "1          computing-business?cc  ...  None\n",
              "2      businessadministration?cc  ...  None\n",
              "3                         law?cc  ...  None\n",
              "4     businessandmanagement-3?cc  ...  None\n",
              "...                          ...  ...   ...\n",
              "4098         appliedcomputing?cc  ...  None\n",
              "4099         appliedcomputing?cc  ...  None\n",
              "4100         appliedcomputing?cc  ...  None\n",
              "4101         appliedcomputing?cc  ...  None\n",
              "4102         appliedcomputing?cc  ...  None\n",
              "\n",
              "[4103 rows x 4 columns]"
            ]
          },
          "metadata": {
            "tags": []
          },
          "execution_count": 31
        }
      ]
    },
    {
      "cell_type": "code",
      "metadata": {
        "id": "1613bNnpxGrV",
        "colab_type": "code",
        "colab": {
          "base_uri": "https://localhost:8080/",
          "height": 52
        },
        "outputId": "64edaa8a-18a4-4d28-c550-7e608fb54e2b"
      },
      "source": [
        "#checking sub[3]\n",
        "sub[3].value_counts()"
      ],
      "execution_count": null,
      "outputs": [
        {
          "output_type": "execute_result",
          "data": {
            "text/plain": [
              "    11\n",
              "Name: 3, dtype: int64"
            ]
          },
          "metadata": {
            "tags": []
          },
          "execution_count": 32
        }
      ]
    },
    {
      "cell_type": "code",
      "metadata": {
        "id": "Y4UtOYaB1bao",
        "colab_type": "code",
        "colab": {}
      },
      "source": [
        "sub = sub[[0,1,2]]"
      ],
      "execution_count": null,
      "outputs": []
    },
    {
      "cell_type": "code",
      "metadata": {
        "id": "DDSV7WUu1qvm",
        "colab_type": "code",
        "colab": {
          "base_uri": "https://localhost:8080/",
          "height": 390
        },
        "outputId": "066abcb5-3dbd-4f42-b0bb-80af45362dee"
      },
      "source": [
        "sub[1].value_counts().nsmallest(20)"
      ],
      "execution_count": null,
      "outputs": [
        {
          "output_type": "execute_result",
          "data": {
            "text/plain": [
              "UBSF0SBT           1\n",
              "UBAF2MJNFR&titl    1\n",
              "UBSF2MPSFR&titl    1\n",
              "UBAF2MJNIR&titl    1\n",
              "UBAF3MELJN&titl    1\n",
              "UBAF2MHAEL&titl    1\n",
              "UBAF2MINJN&titl    1\n",
              "UBAF2MJNEL&titl    1\n",
              "UBAF2MMLHA&titl    1\n",
              "UBAF2MHAFR&titl    1\n",
              "RMPF2PHS&titl      1\n",
              "UBSF2MECPO&titl    1\n",
              "UBAF2MPOFR&titl    1\n",
              "UBAF2MELFR&titl    1\n",
              "UBAF2MELHA&titl    1\n",
              "UBAF2MHAHS&titl    1\n",
              "RMAF1PTH&titl      1\n",
              "UBEF2MECJN&titl    1\n",
              "UBAF2MINSP&titl    2\n",
              "UBAF2MHAJN&titl    2\n",
              "Name: 1, dtype: int64"
            ]
          },
          "metadata": {
            "tags": []
          },
          "execution_count": 34
        }
      ]
    },
    {
      "cell_type": "code",
      "metadata": {
        "id": "OJyTvWMI1rqI",
        "colab_type": "code",
        "colab": {}
      },
      "source": [
        "#sub[1] is also gibberish\n",
        "sub = sub[[0,2]]"
      ],
      "execution_count": null,
      "outputs": []
    },
    {
      "cell_type": "code",
      "metadata": {
        "id": "ivKMeU3g2Pnm",
        "colab_type": "code",
        "colab": {}
      },
      "source": [
        "sub_1 = sub[0].str.split('?', expand = True)"
      ],
      "execution_count": null,
      "outputs": []
    },
    {
      "cell_type": "code",
      "metadata": {
        "id": "wxQCgU7126SE",
        "colab_type": "code",
        "colab": {
          "base_uri": "https://localhost:8080/",
          "height": 52
        },
        "outputId": "78b1d8bd-b9ee-4896-8d26-e8ce9aec1978"
      },
      "source": [
        "sub_1[1].value_counts()"
      ],
      "execution_count": null,
      "outputs": [
        {
          "output_type": "execute_result",
          "data": {
            "text/plain": [
              "cc    2263\n",
              "Name: 1, dtype: int64"
            ]
          },
          "metadata": {
            "tags": []
          },
          "execution_count": 37
        }
      ]
    },
    {
      "cell_type": "code",
      "metadata": {
        "id": "AU4EW7VA3k99",
        "colab_type": "code",
        "colab": {}
      },
      "source": [
        "#replacing sub[0]\n",
        "sub[0] = sub_1"
      ],
      "execution_count": null,
      "outputs": []
    },
    {
      "cell_type": "code",
      "metadata": {
        "id": "bwAURnlA3_p_",
        "colab_type": "code",
        "colab": {}
      },
      "source": [
        "#to replace with department\n",
        "sub[2] = sub[2].str.strip()\n",
        "splitted.loc[~sub[0].isna(),'departmnet'] = sub[~sub[0].isna()][2]"
      ],
      "execution_count": null,
      "outputs": []
    },
    {
      "cell_type": "code",
      "metadata": {
        "id": "DFhLv6rS4tqx",
        "colab_type": "code",
        "colab": {}
      },
      "source": [
        "sub[0] = sub[0].str.replace(\"-\", \" \")"
      ],
      "execution_count": null,
      "outputs": []
    },
    {
      "cell_type": "code",
      "metadata": {
        "id": "a-BkgrOJ4A6C",
        "colab_type": "code",
        "colab": {}
      },
      "source": [
        "#replacing subject with formatted subject\n",
        "splitted.subject = sub[0]"
      ],
      "execution_count": null,
      "outputs": []
    },
    {
      "cell_type": "code",
      "metadata": {
        "id": "Wx87MRUV4nlq",
        "colab_type": "code",
        "colab": {
          "base_uri": "https://localhost:8080/",
          "height": 816
        },
        "outputId": "4b45b9bb-a411-4c7c-edd3-72c3bc988250"
      },
      "source": [
        "splitted[4].value_counts()"
      ],
      "execution_count": null,
      "outputs": [
        {
          "output_type": "execute_result",
          "data": {
            "text/plain": [
              "                                                                                                 205\n",
              "?cc=UBSF2SBS&titl=BSc Biomedical Sciences (2 year degree)                                         71\n",
              "?cc=UBSF2SCO&titl=BSc Computing (2-year degree)                                                   70\n",
              "?cc=UCTF1SBS&titl=CertHE Medical Sciences (Pre-Med, 1-year)                                       49\n",
              "?cc=PMSF1PAD&titl=MSc Applied Data Science                                                        41\n",
              "?cc=FCTF1FBS&titl=Medical Foundation (Cert. in Medical Foundation Studies, 1-year)                39\n",
              "?cc=UBAF2SSICY&titl=BA Security, Intelligence and Cyber (2-year degree)                           38\n",
              " PhD Law                                                                                          32\n",
              "?cc=PMSF1PSMCE&titl=MSc Strategic Marketing & Customer Experience Management=                     27\n",
              "?cc=UBSF2SPD&titl=BSc Podiatric Medicine                                                          27\n",
              "?cc=ULBF2SLACR&titl=LLB Law and Criminology (2-year degree)                                       23\n",
              " PhD Psychology by Research                                                                       20\n",
              "?cc=OCTF1PQA&titl=Assessment Only (AO) Route to Qualified Teacher Status – Secondary              18\n",
              "?cc=OCTF1PTT&titl=TA to Teacher                                                                   17\n",
              "?cc=PMAF1PUNDS&titl=MA United Nations and Diplomatic Studies                                      16\n",
              " International Studies                                                                            14\n",
              "?cc=UBEF2SECF&titl=BSc Economics (Flexible Combined Honours)                                      13\n",
              "?cc=RMSF1PCP&titl=MSc (Research) in Cyberpsychology                                               12\n",
              "?cc=FCTF1FBS&titl=Certificate Medical Foundation Studies                                          12\n",
              "?cc=PMAF1PST&titl=MA Leadership in Sport                                                          11\n",
              "?cc=PMAP1PR7&titl=MA in Residential Education                                                     11\n",
              "?cc=RMSF1PPCPE&titl=MSc (Research) in the Psychology of Creativity and Performance Expertise      11\n",
              "?cc=RMPF2PSI&titl=MPhil                                                                           10\n",
              "parttime                                                                                          10\n",
              "parttime?cc=ULBP4SLA&titl=LLB Law (part-time)                                                      7\n",
              "prof-dip?cc=ECTP2PDM&titl=CIM Diploma in Professional Marketing                                    6\n",
              "?cc=UBAF2SMLF&titl=BA Modern Languages (Flexible Combined Honours)                                 4\n",
              "?cc=UBAF2SDMF&titl=BA Digital News and Media (Flexible Combined Honours)                           4\n",
              "?cc=UBAF0SIN&titl=BA International Studies (with integrated Foundation)                            3\n",
              "prof-cert?cc=ECTP2PCM&titl=CIM Certificate in Professional Marketing                               3\n",
              "prof-cert                                                                                          2\n",
              " PhD Biography                                                                                     2\n",
              "?cc=UBAF2SHAF&titl=BA History of Art (Flexible Combined Honours)                                   2\n",
              "level5-qualification                                                                               1\n",
              "?cc=UCTF1SBS&titl=Pre-Med (CertHE in Medical Science, 1 year)                                      1\n",
              "intro-cert?cc=ECTP2ICM&titl=CIM Foundation Certificate in Marketing                                1\n",
              "prof-dip                                                                                           1\n",
              "scholarship                                                                                        1\n",
              "level5-qualification?cc=EDIP1DMLL5&titl=CMI Level 5 Qualification in Management & Leadership=      1\n",
              "?cc=UBAF2SIRF&titl=BA International Relations (Flexible Combined Honours)                          1\n",
              "?cc=UBAF2SELF&titl=BA English Literature (Flexible Combined Honours)                               1\n",
              "?cc=UBAF2SHSF&titl=BA History (Flexible Combined Honours)                                          1\n",
              "?preview=true                                                                                      1\n",
              "?preview_id=486448&preview_nonce=d52ebf5099&_thumbnail_id=486677&preview=true                      1\n",
              "Name: 4, dtype: int64"
            ]
          },
          "metadata": {
            "tags": []
          },
          "execution_count": 42
        }
      ]
    },
    {
      "cell_type": "code",
      "metadata": {
        "id": "C1EKi9vV6m2T",
        "colab_type": "code",
        "colab": {
          "base_uri": "https://localhost:8080/",
          "height": 406
        },
        "outputId": "7ae6ccba-ecd1-48f0-971e-ae72952e3e19"
      },
      "source": [
        "sub1 =  splitted[4].str.split(\"=\",expand= True)\n",
        "sub1"
      ],
      "execution_count": null,
      "outputs": [
        {
          "output_type": "execute_result",
          "data": {
            "text/html": [
              "<div>\n",
              "<style scoped>\n",
              "    .dataframe tbody tr th:only-of-type {\n",
              "        vertical-align: middle;\n",
              "    }\n",
              "\n",
              "    .dataframe tbody tr th {\n",
              "        vertical-align: top;\n",
              "    }\n",
              "\n",
              "    .dataframe thead th {\n",
              "        text-align: right;\n",
              "    }\n",
              "</style>\n",
              "<table border=\"1\" class=\"dataframe\">\n",
              "  <thead>\n",
              "    <tr style=\"text-align: right;\">\n",
              "      <th></th>\n",
              "      <th>0</th>\n",
              "      <th>1</th>\n",
              "      <th>2</th>\n",
              "      <th>3</th>\n",
              "      <th>4</th>\n",
              "    </tr>\n",
              "  </thead>\n",
              "  <tbody>\n",
              "    <tr>\n",
              "      <th>0</th>\n",
              "      <td></td>\n",
              "      <td>None</td>\n",
              "      <td>None</td>\n",
              "      <td>None</td>\n",
              "      <td>None</td>\n",
              "    </tr>\n",
              "    <tr>\n",
              "      <th>1</th>\n",
              "      <td>None</td>\n",
              "      <td>None</td>\n",
              "      <td>None</td>\n",
              "      <td>None</td>\n",
              "      <td>None</td>\n",
              "    </tr>\n",
              "    <tr>\n",
              "      <th>2</th>\n",
              "      <td>None</td>\n",
              "      <td>None</td>\n",
              "      <td>None</td>\n",
              "      <td>None</td>\n",
              "      <td>None</td>\n",
              "    </tr>\n",
              "    <tr>\n",
              "      <th>3</th>\n",
              "      <td>None</td>\n",
              "      <td>None</td>\n",
              "      <td>None</td>\n",
              "      <td>None</td>\n",
              "      <td>None</td>\n",
              "    </tr>\n",
              "    <tr>\n",
              "      <th>4</th>\n",
              "      <td>None</td>\n",
              "      <td>None</td>\n",
              "      <td>None</td>\n",
              "      <td>None</td>\n",
              "      <td>None</td>\n",
              "    </tr>\n",
              "    <tr>\n",
              "      <th>...</th>\n",
              "      <td>...</td>\n",
              "      <td>...</td>\n",
              "      <td>...</td>\n",
              "      <td>...</td>\n",
              "      <td>...</td>\n",
              "    </tr>\n",
              "    <tr>\n",
              "      <th>4098</th>\n",
              "      <td>None</td>\n",
              "      <td>None</td>\n",
              "      <td>None</td>\n",
              "      <td>None</td>\n",
              "      <td>None</td>\n",
              "    </tr>\n",
              "    <tr>\n",
              "      <th>4099</th>\n",
              "      <td>None</td>\n",
              "      <td>None</td>\n",
              "      <td>None</td>\n",
              "      <td>None</td>\n",
              "      <td>None</td>\n",
              "    </tr>\n",
              "    <tr>\n",
              "      <th>4100</th>\n",
              "      <td>None</td>\n",
              "      <td>None</td>\n",
              "      <td>None</td>\n",
              "      <td>None</td>\n",
              "      <td>None</td>\n",
              "    </tr>\n",
              "    <tr>\n",
              "      <th>4101</th>\n",
              "      <td>None</td>\n",
              "      <td>None</td>\n",
              "      <td>None</td>\n",
              "      <td>None</td>\n",
              "      <td>None</td>\n",
              "    </tr>\n",
              "    <tr>\n",
              "      <th>4102</th>\n",
              "      <td>None</td>\n",
              "      <td>None</td>\n",
              "      <td>None</td>\n",
              "      <td>None</td>\n",
              "      <td>None</td>\n",
              "    </tr>\n",
              "  </tbody>\n",
              "</table>\n",
              "<p>4103 rows × 5 columns</p>\n",
              "</div>"
            ],
            "text/plain": [
              "         0     1     2     3     4\n",
              "0           None  None  None  None\n",
              "1     None  None  None  None  None\n",
              "2     None  None  None  None  None\n",
              "3     None  None  None  None  None\n",
              "4     None  None  None  None  None\n",
              "...    ...   ...   ...   ...   ...\n",
              "4098  None  None  None  None  None\n",
              "4099  None  None  None  None  None\n",
              "4100  None  None  None  None  None\n",
              "4101  None  None  None  None  None\n",
              "4102  None  None  None  None  None\n",
              "\n",
              "[4103 rows x 5 columns]"
            ]
          },
          "metadata": {
            "tags": []
          },
          "execution_count": 43
        }
      ]
    },
    {
      "cell_type": "code",
      "metadata": {
        "id": "bfrBUYH98-E1",
        "colab_type": "code",
        "colab": {}
      },
      "source": [
        "#dropping other columns as it contains utter gibberish\n",
        "sub1 = sub1[[0,2]]"
      ],
      "execution_count": null,
      "outputs": []
    },
    {
      "cell_type": "code",
      "metadata": {
        "id": "YSL3JpIL9EVP",
        "colab_type": "code",
        "colab": {
          "base_uri": "https://localhost:8080/",
          "height": 621
        },
        "outputId": "e324d0b6-62cc-4dab-ab71-e1156cb5eb4d"
      },
      "source": [
        "sub1[2].value_counts()"
      ],
      "execution_count": null,
      "outputs": [
        {
          "output_type": "execute_result",
          "data": {
            "text/plain": [
              "BSc Biomedical Sciences (2 year degree)                                     71\n",
              "BSc Computing (2-year degree)                                               70\n",
              "CertHE Medical Sciences (Pre-Med, 1-year)                                   49\n",
              "MSc Applied Data Science                                                    41\n",
              "Medical Foundation (Cert. in Medical Foundation Studies, 1-year)            39\n",
              "BA Security, Intelligence and Cyber (2-year degree)                         38\n",
              "MSc Strategic Marketing & Customer Experience Management                    27\n",
              "BSc Podiatric Medicine                                                      27\n",
              "LLB Law and Criminology (2-year degree)                                     23\n",
              "Assessment Only (AO) Route to Qualified Teacher Status – Secondary          18\n",
              "TA to Teacher                                                               17\n",
              "MA United Nations and Diplomatic Studies                                    16\n",
              "BSc Economics (Flexible Combined Honours)                                   13\n",
              "Certificate Medical Foundation Studies                                      12\n",
              "MSc (Research) in Cyberpsychology                                           12\n",
              "MSc (Research) in the Psychology of Creativity and Performance Expertise    11\n",
              "MA in Residential Education                                                 11\n",
              "MA Leadership in Sport                                                      11\n",
              "MPhil                                                                       10\n",
              "LLB Law (part-time)                                                          7\n",
              "CIM Diploma in Professional Marketing                                        6\n",
              "BA Modern Languages (Flexible Combined Honours)                              4\n",
              "BA Digital News and Media (Flexible Combined Honours)                        4\n",
              "BA International Studies (with integrated Foundation)                        3\n",
              "CIM Certificate in Professional Marketing                                    3\n",
              "BA History of Art (Flexible Combined Honours)                                2\n",
              "BA History (Flexible Combined Honours)                                       1\n",
              "BA International Relations (Flexible Combined Honours)                       1\n",
              "Pre-Med (CertHE in Medical Science, 1 year)                                  1\n",
              "CMI Level 5 Qualification in Management & Leadership                         1\n",
              "d52ebf5099&_thumbnail_id                                                     1\n",
              "CIM Foundation Certificate in Marketing                                      1\n",
              "BA English Literature (Flexible Combined Honours)                            1\n",
              "Name: 2, dtype: int64"
            ]
          },
          "metadata": {
            "tags": []
          },
          "execution_count": 45
        }
      ]
    },
    {
      "cell_type": "code",
      "metadata": {
        "id": "xc3ZRZfG9Hoq",
        "colab_type": "code",
        "colab": {}
      },
      "source": [
        "#to replace with department\n",
        "splitted.loc[~sub1[2].isna(),'departmnet'] = sub1[~sub1[2].isna()][2]"
      ],
      "execution_count": null,
      "outputs": []
    },
    {
      "cell_type": "code",
      "metadata": {
        "id": "pc9hKeoy_pMm",
        "colab_type": "code",
        "colab": {}
      },
      "source": [
        "#to replace with department\n",
        "mask = ~splitted[5].isna()\n",
        "splitted.loc[mask,'departmnet'] = splitted.loc[mask,5]"
      ],
      "execution_count": null,
      "outputs": []
    },
    {
      "cell_type": "code",
      "metadata": {
        "id": "su73Vo5L_zPs",
        "colab_type": "code",
        "colab": {}
      },
      "source": [
        "splitted.drop(columns = [4,5],inplace= True)"
      ],
      "execution_count": null,
      "outputs": []
    },
    {
      "cell_type": "code",
      "metadata": {
        "id": "2M_XHQkWuqB9",
        "colab_type": "code",
        "colab": {
          "base_uri": "https://localhost:8080/",
          "height": 406
        },
        "outputId": "a085b470-bcb6-457f-de28-121cb2230de1"
      },
      "source": [
        "splitted"
      ],
      "execution_count": null,
      "outputs": [
        {
          "output_type": "execute_result",
          "data": {
            "text/html": [
              "<div>\n",
              "<style scoped>\n",
              "    .dataframe tbody tr th:only-of-type {\n",
              "        vertical-align: middle;\n",
              "    }\n",
              "\n",
              "    .dataframe tbody tr th {\n",
              "        vertical-align: top;\n",
              "    }\n",
              "\n",
              "    .dataframe thead th {\n",
              "        text-align: right;\n",
              "    }\n",
              "</style>\n",
              "<table border=\"1\" class=\"dataframe\">\n",
              "  <thead>\n",
              "    <tr style=\"text-align: right;\">\n",
              "      <th></th>\n",
              "      <th>Site</th>\n",
              "      <th>field</th>\n",
              "      <th>departmnet</th>\n",
              "      <th>subject</th>\n",
              "    </tr>\n",
              "  </thead>\n",
              "  <tbody>\n",
              "    <tr>\n",
              "      <th>0</th>\n",
              "      <td>www.buckingham.ac.uk</td>\n",
              "      <td>medicine</td>\n",
              "      <td>None</td>\n",
              "      <td>podiatric medicine</td>\n",
              "    </tr>\n",
              "    <tr>\n",
              "      <th>1</th>\n",
              "      <td>www.buckingham.ac.uk</td>\n",
              "      <td>sciences</td>\n",
              "      <td>BSc Computing with Business Management (2-year...</td>\n",
              "      <td>computing business</td>\n",
              "    </tr>\n",
              "    <tr>\n",
              "      <th>2</th>\n",
              "      <td>www.buckingham.ac.uk</td>\n",
              "      <td>business</td>\n",
              "      <td>Masters of Business Administration (MBA)</td>\n",
              "      <td>businessadministration</td>\n",
              "    </tr>\n",
              "    <tr>\n",
              "      <th>3</th>\n",
              "      <td>www.buckingham.ac.uk</td>\n",
              "      <td>law</td>\n",
              "      <td>LLB Law (2-year degree)</td>\n",
              "      <td>law</td>\n",
              "    </tr>\n",
              "    <tr>\n",
              "      <th>4</th>\n",
              "      <td>www.buckingham.ac.uk</td>\n",
              "      <td>business</td>\n",
              "      <td>BSc Business Management (with integrated Found...</td>\n",
              "      <td>businessandmanagement 3</td>\n",
              "    </tr>\n",
              "    <tr>\n",
              "      <th>...</th>\n",
              "      <td>...</td>\n",
              "      <td>...</td>\n",
              "      <td>...</td>\n",
              "      <td>...</td>\n",
              "    </tr>\n",
              "    <tr>\n",
              "      <th>4098</th>\n",
              "      <td>www.buckingham.ac.uk</td>\n",
              "      <td>sciences</td>\n",
              "      <td>Graduate Diploma in Computing</td>\n",
              "      <td>appliedcomputing</td>\n",
              "    </tr>\n",
              "    <tr>\n",
              "      <th>4099</th>\n",
              "      <td>www.buckingham.ac.uk</td>\n",
              "      <td>sciences</td>\n",
              "      <td>Graduate Diploma in Computing</td>\n",
              "      <td>appliedcomputing</td>\n",
              "    </tr>\n",
              "    <tr>\n",
              "      <th>4100</th>\n",
              "      <td>www.buckingham.ac.uk</td>\n",
              "      <td>sciences</td>\n",
              "      <td>Graduate Diploma in Computing</td>\n",
              "      <td>appliedcomputing</td>\n",
              "    </tr>\n",
              "    <tr>\n",
              "      <th>4101</th>\n",
              "      <td>www.buckingham.ac.uk</td>\n",
              "      <td>sciences</td>\n",
              "      <td>Graduate Diploma in Computing</td>\n",
              "      <td>appliedcomputing</td>\n",
              "    </tr>\n",
              "    <tr>\n",
              "      <th>4102</th>\n",
              "      <td>www.buckingham.ac.uk</td>\n",
              "      <td>sciences</td>\n",
              "      <td>Graduate Diploma in Computing</td>\n",
              "      <td>appliedcomputing</td>\n",
              "    </tr>\n",
              "  </tbody>\n",
              "</table>\n",
              "<p>4103 rows × 4 columns</p>\n",
              "</div>"
            ],
            "text/plain": [
              "                      Site  ...                  subject\n",
              "0     www.buckingham.ac.uk  ...       podiatric medicine\n",
              "1     www.buckingham.ac.uk  ...       computing business\n",
              "2     www.buckingham.ac.uk  ...   businessadministration\n",
              "3     www.buckingham.ac.uk  ...                      law\n",
              "4     www.buckingham.ac.uk  ...  businessandmanagement 3\n",
              "...                    ...  ...                      ...\n",
              "4098  www.buckingham.ac.uk  ...         appliedcomputing\n",
              "4099  www.buckingham.ac.uk  ...         appliedcomputing\n",
              "4100  www.buckingham.ac.uk  ...         appliedcomputing\n",
              "4101  www.buckingham.ac.uk  ...         appliedcomputing\n",
              "4102  www.buckingham.ac.uk  ...         appliedcomputing\n",
              "\n",
              "[4103 rows x 4 columns]"
            ]
          },
          "metadata": {
            "tags": []
          },
          "execution_count": 63
        }
      ]
    }
  ]
}